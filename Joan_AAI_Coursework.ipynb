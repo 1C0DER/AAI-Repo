{
  "nbformat": 4,
  "nbformat_minor": 0,
  "metadata": {
    "colab": {
      "provenance": [],
      "authorship_tag": "ABX9TyMtXXacP1uLj+5qlNZFHDh8",
      "include_colab_link": true
    },
    "kernelspec": {
      "name": "python3",
      "display_name": "Python 3"
    },
    "language_info": {
      "name": "python"
    }
  },
  "cells": [
    {
      "cell_type": "markdown",
      "metadata": {
        "id": "view-in-github",
        "colab_type": "text"
      },
      "source": [
        "<a href=\"https://colab.research.google.com/github/1C0DER/AAI-Repo/blob/master/Joan_AAI_Coursework.ipynb\" target=\"_parent\"><img src=\"https://colab.research.google.com/assets/colab-badge.svg\" alt=\"Open In Colab\"/></a>"
      ]
    },
    {
      "cell_type": "markdown",
      "source": [
        "#Section 1: Dataset description"
      ],
      "metadata": {
        "id": "QWvJKeQPQTGX"
      }
    },
    {
      "cell_type": "markdown",
      "source": [
        "The dataset used for this project contains tweets that are labeled with different sentiment categories which are:\n",
        "\n",
        "a. Positive\n",
        "\n",
        "b. Negative\n",
        "\n",
        "c. Neutral\n",
        "\n",
        "The tweets are collected from different social media platforms which reflect a wide range of users' opinions, making it a very diverse source for sentiment analysis. The primary task is to train a machine learning model that can predict the categories based on the data text.\n",
        "\n",
        "To prepare the dataset:\n",
        "\n",
        "1. The dataset will be loaded into a pandas Dataframe\n",
        "\n",
        "2. Then it will be explored to understand its structure, checking for missing values, class distributions and its general statistics\n",
        "\n",
        "3. Preprocessing: Containing steps like:\n",
        "\n",
        "a. Text Cleaning: Removal of unecessary punctuation, special characters and stopwords due to the casual and often cluttered nature of tweet language, which frequently includes slang, hashtags, and abbreviations\n",
        "\n",
        "b. Tokenization: Breaking down text into individual words\n",
        "\n",
        "c. Lowercasing: To maintain uniformity all text willl be converted to lowercase\n",
        "\n",
        "d. Vectorization: Transforming the text into numerical representations (e.g., TF-IDF) to enable machine learning algorithms to process it.\n",
        "\n",
        "By the end of this section, the dataset will be clean and ready for use in the subsequent stages of the model comparison.\n"
      ],
      "metadata": {
        "id": "DT5o7qrAQeyN"
      }
    },
    {
      "cell_type": "code",
      "execution_count": 40,
      "metadata": {
        "colab": {
          "base_uri": "https://localhost:8080/",
          "height": 73
        },
        "id": "6WO987I7mMAo",
        "outputId": "1cea8c02-e1da-4e52-890a-b4498526415a"
      },
      "outputs": [
        {
          "output_type": "display_data",
          "data": {
            "text/plain": [
              "<IPython.core.display.HTML object>"
            ],
            "text/html": [
              "\n",
              "     <input type=\"file\" id=\"files-c7aad3e8-e3e3-4650-8eb3-ae7bed8d9f85\" name=\"files[]\" multiple disabled\n",
              "        style=\"border:none\" />\n",
              "     <output id=\"result-c7aad3e8-e3e3-4650-8eb3-ae7bed8d9f85\">\n",
              "      Upload widget is only available when the cell has been executed in the\n",
              "      current browser session. Please rerun this cell to enable.\n",
              "      </output>\n",
              "      <script>// Copyright 2017 Google LLC\n",
              "//\n",
              "// Licensed under the Apache License, Version 2.0 (the \"License\");\n",
              "// you may not use this file except in compliance with the License.\n",
              "// You may obtain a copy of the License at\n",
              "//\n",
              "//      http://www.apache.org/licenses/LICENSE-2.0\n",
              "//\n",
              "// Unless required by applicable law or agreed to in writing, software\n",
              "// distributed under the License is distributed on an \"AS IS\" BASIS,\n",
              "// WITHOUT WARRANTIES OR CONDITIONS OF ANY KIND, either express or implied.\n",
              "// See the License for the specific language governing permissions and\n",
              "// limitations under the License.\n",
              "\n",
              "/**\n",
              " * @fileoverview Helpers for google.colab Python module.\n",
              " */\n",
              "(function(scope) {\n",
              "function span(text, styleAttributes = {}) {\n",
              "  const element = document.createElement('span');\n",
              "  element.textContent = text;\n",
              "  for (const key of Object.keys(styleAttributes)) {\n",
              "    element.style[key] = styleAttributes[key];\n",
              "  }\n",
              "  return element;\n",
              "}\n",
              "\n",
              "// Max number of bytes which will be uploaded at a time.\n",
              "const MAX_PAYLOAD_SIZE = 100 * 1024;\n",
              "\n",
              "function _uploadFiles(inputId, outputId) {\n",
              "  const steps = uploadFilesStep(inputId, outputId);\n",
              "  const outputElement = document.getElementById(outputId);\n",
              "  // Cache steps on the outputElement to make it available for the next call\n",
              "  // to uploadFilesContinue from Python.\n",
              "  outputElement.steps = steps;\n",
              "\n",
              "  return _uploadFilesContinue(outputId);\n",
              "}\n",
              "\n",
              "// This is roughly an async generator (not supported in the browser yet),\n",
              "// where there are multiple asynchronous steps and the Python side is going\n",
              "// to poll for completion of each step.\n",
              "// This uses a Promise to block the python side on completion of each step,\n",
              "// then passes the result of the previous step as the input to the next step.\n",
              "function _uploadFilesContinue(outputId) {\n",
              "  const outputElement = document.getElementById(outputId);\n",
              "  const steps = outputElement.steps;\n",
              "\n",
              "  const next = steps.next(outputElement.lastPromiseValue);\n",
              "  return Promise.resolve(next.value.promise).then((value) => {\n",
              "    // Cache the last promise value to make it available to the next\n",
              "    // step of the generator.\n",
              "    outputElement.lastPromiseValue = value;\n",
              "    return next.value.response;\n",
              "  });\n",
              "}\n",
              "\n",
              "/**\n",
              " * Generator function which is called between each async step of the upload\n",
              " * process.\n",
              " * @param {string} inputId Element ID of the input file picker element.\n",
              " * @param {string} outputId Element ID of the output display.\n",
              " * @return {!Iterable<!Object>} Iterable of next steps.\n",
              " */\n",
              "function* uploadFilesStep(inputId, outputId) {\n",
              "  const inputElement = document.getElementById(inputId);\n",
              "  inputElement.disabled = false;\n",
              "\n",
              "  const outputElement = document.getElementById(outputId);\n",
              "  outputElement.innerHTML = '';\n",
              "\n",
              "  const pickedPromise = new Promise((resolve) => {\n",
              "    inputElement.addEventListener('change', (e) => {\n",
              "      resolve(e.target.files);\n",
              "    });\n",
              "  });\n",
              "\n",
              "  const cancel = document.createElement('button');\n",
              "  inputElement.parentElement.appendChild(cancel);\n",
              "  cancel.textContent = 'Cancel upload';\n",
              "  const cancelPromise = new Promise((resolve) => {\n",
              "    cancel.onclick = () => {\n",
              "      resolve(null);\n",
              "    };\n",
              "  });\n",
              "\n",
              "  // Wait for the user to pick the files.\n",
              "  const files = yield {\n",
              "    promise: Promise.race([pickedPromise, cancelPromise]),\n",
              "    response: {\n",
              "      action: 'starting',\n",
              "    }\n",
              "  };\n",
              "\n",
              "  cancel.remove();\n",
              "\n",
              "  // Disable the input element since further picks are not allowed.\n",
              "  inputElement.disabled = true;\n",
              "\n",
              "  if (!files) {\n",
              "    return {\n",
              "      response: {\n",
              "        action: 'complete',\n",
              "      }\n",
              "    };\n",
              "  }\n",
              "\n",
              "  for (const file of files) {\n",
              "    const li = document.createElement('li');\n",
              "    li.append(span(file.name, {fontWeight: 'bold'}));\n",
              "    li.append(span(\n",
              "        `(${file.type || 'n/a'}) - ${file.size} bytes, ` +\n",
              "        `last modified: ${\n",
              "            file.lastModifiedDate ? file.lastModifiedDate.toLocaleDateString() :\n",
              "                                    'n/a'} - `));\n",
              "    const percent = span('0% done');\n",
              "    li.appendChild(percent);\n",
              "\n",
              "    outputElement.appendChild(li);\n",
              "\n",
              "    const fileDataPromise = new Promise((resolve) => {\n",
              "      const reader = new FileReader();\n",
              "      reader.onload = (e) => {\n",
              "        resolve(e.target.result);\n",
              "      };\n",
              "      reader.readAsArrayBuffer(file);\n",
              "    });\n",
              "    // Wait for the data to be ready.\n",
              "    let fileData = yield {\n",
              "      promise: fileDataPromise,\n",
              "      response: {\n",
              "        action: 'continue',\n",
              "      }\n",
              "    };\n",
              "\n",
              "    // Use a chunked sending to avoid message size limits. See b/62115660.\n",
              "    let position = 0;\n",
              "    do {\n",
              "      const length = Math.min(fileData.byteLength - position, MAX_PAYLOAD_SIZE);\n",
              "      const chunk = new Uint8Array(fileData, position, length);\n",
              "      position += length;\n",
              "\n",
              "      const base64 = btoa(String.fromCharCode.apply(null, chunk));\n",
              "      yield {\n",
              "        response: {\n",
              "          action: 'append',\n",
              "          file: file.name,\n",
              "          data: base64,\n",
              "        },\n",
              "      };\n",
              "\n",
              "      let percentDone = fileData.byteLength === 0 ?\n",
              "          100 :\n",
              "          Math.round((position / fileData.byteLength) * 100);\n",
              "      percent.textContent = `${percentDone}% done`;\n",
              "\n",
              "    } while (position < fileData.byteLength);\n",
              "  }\n",
              "\n",
              "  // All done.\n",
              "  yield {\n",
              "    response: {\n",
              "      action: 'complete',\n",
              "    }\n",
              "  };\n",
              "}\n",
              "\n",
              "scope.google = scope.google || {};\n",
              "scope.google.colab = scope.google.colab || {};\n",
              "scope.google.colab._files = {\n",
              "  _uploadFiles,\n",
              "  _uploadFilesContinue,\n",
              "};\n",
              "})(self);\n",
              "</script> "
            ]
          },
          "metadata": {}
        },
        {
          "output_type": "stream",
          "name": "stdout",
          "text": [
            "Saving train.csv to train.csv\n"
          ]
        }
      ],
      "source": [
        "import numpy as np #import numpy to enable array functionality\n",
        "import pandas as pd #import pandas to enable dataframe functionality\n",
        "import io #io we use to load the data after uploading (as colab uses dictionaries to store uploaded files)\n",
        "from google.colab import files #finally, we import the files package from google.colab framework to be able to upload files\n",
        "\n",
        "uploaded = files.upload()"
      ]
    },
    {
      "cell_type": "code",
      "source": [
        "tweet_file = io.BytesIO(uploaded['train.csv'])\n",
        "tweet_df = pd.read_csv(tweet_file)\n",
        "print(tweet_df) # This prints the loaded df into the console"
      ],
      "metadata": {
        "colab": {
          "base_uri": "https://localhost:8080/"
        },
        "id": "FYXeHFxyoCxY",
        "outputId": "1a5b8d23-e329-4fd4-9d3a-bd9f9dcede3f"
      },
      "execution_count": 41,
      "outputs": [
        {
          "output_type": "stream",
          "name": "stdout",
          "text": [
            "           textID                                               text  \\\n",
            "0      cb774db0d1                I`d have responded, if I were going   \n",
            "1      549e992a42      Sooo SAD I will miss you here in San Diego!!!   \n",
            "2      088c60f138                          my boss is bullying me...   \n",
            "3      9642c003ef                     what interview! leave me alone   \n",
            "4      358bd9e861   Sons of ****, why couldn`t they put them on t...   \n",
            "...           ...                                                ...   \n",
            "27476  4eac33d1c0   wish we could come see u on Denver  husband l...   \n",
            "27477  4f4c4fc327   I`ve wondered about rake to.  The client has ...   \n",
            "27478  f67aae2310   Yay good for both of you. Enjoy the break - y...   \n",
            "27479  ed167662a5                         But it was worth it  ****.   \n",
            "27480  6f7127d9d7     All this flirting going on - The ATG smiles...   \n",
            "\n",
            "                                           selected_text sentiment  \n",
            "0                    I`d have responded, if I were going   neutral  \n",
            "1                                               Sooo SAD  negative  \n",
            "2                                            bullying me  negative  \n",
            "3                                         leave me alone  negative  \n",
            "4                                          Sons of ****,  negative  \n",
            "...                                                  ...       ...  \n",
            "27476                                             d lost  negative  \n",
            "27477                                      , don`t force  negative  \n",
            "27478                          Yay good for both of you.  positive  \n",
            "27479                         But it was worth it  ****.  positive  \n",
            "27480  All this flirting going on - The ATG smiles. Y...   neutral  \n",
            "\n",
            "[27481 rows x 4 columns]\n"
          ]
        }
      ]
    },
    {
      "cell_type": "code",
      "source": [
        "tweet_df.info() #checking the general info of the dataframe"
      ],
      "metadata": {
        "colab": {
          "base_uri": "https://localhost:8080/"
        },
        "id": "lMFl80t8n6ww",
        "outputId": "14614324-048a-4e31-de93-3e0e12bff8d8"
      },
      "execution_count": 42,
      "outputs": [
        {
          "output_type": "stream",
          "name": "stdout",
          "text": [
            "<class 'pandas.core.frame.DataFrame'>\n",
            "RangeIndex: 27481 entries, 0 to 27480\n",
            "Data columns (total 4 columns):\n",
            " #   Column         Non-Null Count  Dtype \n",
            "---  ------         --------------  ----- \n",
            " 0   textID         27481 non-null  object\n",
            " 1   text           27480 non-null  object\n",
            " 2   selected_text  27480 non-null  object\n",
            " 3   sentiment      27481 non-null  object\n",
            "dtypes: object(4)\n",
            "memory usage: 858.9+ KB\n"
          ]
        }
      ]
    },
    {
      "cell_type": "code",
      "source": [
        "# Check for missing values in each column\n",
        "tweet_df.isnull().sum()"
      ],
      "metadata": {
        "id": "IE8WVHsGn_jc",
        "colab": {
          "base_uri": "https://localhost:8080/",
          "height": 209
        },
        "outputId": "e2613baa-fc65-4f0d-eb5c-ce9959b1a831"
      },
      "execution_count": 43,
      "outputs": [
        {
          "output_type": "execute_result",
          "data": {
            "text/plain": [
              "textID           0\n",
              "text             1\n",
              "selected_text    1\n",
              "sentiment        0\n",
              "dtype: int64"
            ],
            "text/html": [
              "<div>\n",
              "<style scoped>\n",
              "    .dataframe tbody tr th:only-of-type {\n",
              "        vertical-align: middle;\n",
              "    }\n",
              "\n",
              "    .dataframe tbody tr th {\n",
              "        vertical-align: top;\n",
              "    }\n",
              "\n",
              "    .dataframe thead th {\n",
              "        text-align: right;\n",
              "    }\n",
              "</style>\n",
              "<table border=\"1\" class=\"dataframe\">\n",
              "  <thead>\n",
              "    <tr style=\"text-align: right;\">\n",
              "      <th></th>\n",
              "      <th>0</th>\n",
              "    </tr>\n",
              "  </thead>\n",
              "  <tbody>\n",
              "    <tr>\n",
              "      <th>textID</th>\n",
              "      <td>0</td>\n",
              "    </tr>\n",
              "    <tr>\n",
              "      <th>text</th>\n",
              "      <td>1</td>\n",
              "    </tr>\n",
              "    <tr>\n",
              "      <th>selected_text</th>\n",
              "      <td>1</td>\n",
              "    </tr>\n",
              "    <tr>\n",
              "      <th>sentiment</th>\n",
              "      <td>0</td>\n",
              "    </tr>\n",
              "  </tbody>\n",
              "</table>\n",
              "</div><br><label><b>dtype:</b> int64</label>"
            ]
          },
          "metadata": {},
          "execution_count": 43
        }
      ]
    },
    {
      "cell_type": "code",
      "source": [
        "# Drop rows with any missing values\n",
        "tweet_df.dropna(inplace=True)"
      ],
      "metadata": {
        "id": "SdHWRMN12_oG"
      },
      "execution_count": 44,
      "outputs": []
    },
    {
      "cell_type": "code",
      "source": [
        "# Check for missing values in each column\n",
        "tweet_df.isnull().sum()"
      ],
      "metadata": {
        "colab": {
          "base_uri": "https://localhost:8080/",
          "height": 209
        },
        "id": "y-_18FqB3Jw0",
        "outputId": "d54e751d-fc3f-4ca2-f9c8-35f54d0b610f"
      },
      "execution_count": 45,
      "outputs": [
        {
          "output_type": "execute_result",
          "data": {
            "text/plain": [
              "textID           0\n",
              "text             0\n",
              "selected_text    0\n",
              "sentiment        0\n",
              "dtype: int64"
            ],
            "text/html": [
              "<div>\n",
              "<style scoped>\n",
              "    .dataframe tbody tr th:only-of-type {\n",
              "        vertical-align: middle;\n",
              "    }\n",
              "\n",
              "    .dataframe tbody tr th {\n",
              "        vertical-align: top;\n",
              "    }\n",
              "\n",
              "    .dataframe thead th {\n",
              "        text-align: right;\n",
              "    }\n",
              "</style>\n",
              "<table border=\"1\" class=\"dataframe\">\n",
              "  <thead>\n",
              "    <tr style=\"text-align: right;\">\n",
              "      <th></th>\n",
              "      <th>0</th>\n",
              "    </tr>\n",
              "  </thead>\n",
              "  <tbody>\n",
              "    <tr>\n",
              "      <th>textID</th>\n",
              "      <td>0</td>\n",
              "    </tr>\n",
              "    <tr>\n",
              "      <th>text</th>\n",
              "      <td>0</td>\n",
              "    </tr>\n",
              "    <tr>\n",
              "      <th>selected_text</th>\n",
              "      <td>0</td>\n",
              "    </tr>\n",
              "    <tr>\n",
              "      <th>sentiment</th>\n",
              "      <td>0</td>\n",
              "    </tr>\n",
              "  </tbody>\n",
              "</table>\n",
              "</div><br><label><b>dtype:</b> int64</label>"
            ]
          },
          "metadata": {},
          "execution_count": 45
        }
      ]
    },
    {
      "cell_type": "code",
      "source": [
        "import seaborn as sns # Import the seaborn library and alias it as 'sns'\n",
        "sns.countplot(tweet_df, x='sentiment') # Use tweet_df instead of train_df"
      ],
      "metadata": {
        "colab": {
          "base_uri": "https://localhost:8080/",
          "height": 467
        },
        "id": "J_2YYr1nY5Ra",
        "outputId": "07f11bc9-ecc7-4976-f67b-8481e50766b8"
      },
      "execution_count": 46,
      "outputs": [
        {
          "output_type": "execute_result",
          "data": {
            "text/plain": [
              "<Axes: xlabel='sentiment', ylabel='count'>"
            ]
          },
          "metadata": {},
          "execution_count": 46
        },
        {
          "output_type": "display_data",
          "data": {
            "text/plain": [
              "<Figure size 640x480 with 1 Axes>"
            ],
            "image/png": "[encoded data removed]"
          },
          "metadata": {}
        }
      ]
    },
    {
      "cell_type": "code",
      "source": [
        "import nltk #import the natural language toolkit\n",
        "import re\n",
        "\n",
        "nltk.download('punkt') #download the package in nltk which supports tokenization\n",
        "nltk.download('stopwords') #download the nltk package for stopwords\n",
        "\n",
        "from sklearn.feature_extraction.text import TfidfVectorizer # Import TfidfVectorizer for converting text into TF-IDF features\n",
        "from nltk.corpus import stopwords #import the package from the corpus\n",
        "from nltk.stem import PorterStemmer #import the snowball stemmer (also known as Porter2)"
      ],
      "metadata": {
        "colab": {
          "base_uri": "https://localhost:8080/"
        },
        "id": "AM7dhyGL7AwJ",
        "outputId": "07469834-dc9e-4f50-b8f2-f4624ce4a9e9"
      },
      "execution_count": 47,
      "outputs": [
        {
          "output_type": "stream",
          "name": "stderr",
          "text": [
            "[nltk_data] Downloading package punkt to /root/nltk_data...\n",
            "[nltk_data]   Package punkt is already up-to-date!\n",
            "[nltk_data] Downloading package stopwords to /root/nltk_data...\n",
            "[nltk_data]   Package stopwords is already up-to-date!\n"
          ]
        }
      ]
    },
    {
      "cell_type": "code",
      "source": [
        "def clean_text(text):\n",
        "    # Remove URLs, mentions, and hashtags\n",
        "    text = re.sub(r'http\\S+|www\\S+|@\\S+|#\\S+', '', text)\n",
        "    # Remove non-alphabetic characters and convert to lowercase\n",
        "    text = re.sub(r'[^a-zA-Z\\s]', '', text)\n",
        "    text = text.lower()\n",
        "    return text"
      ],
      "metadata": {
        "id": "y-AtDClz_5sC"
      },
      "execution_count": 48,
      "outputs": []
    },
    {
      "cell_type": "code",
      "source": [
        "# Apply the cleaning function to the 'text' and 'selected_text' columns\n",
        "tweet_df['text_cleaned'] = tweet_df['text'].apply(clean_text)\n",
        "tweet_df['selected_text_cleaned'] = tweet_df['selected_text'].apply(clean_text)"
      ],
      "metadata": {
        "id": "H1Yk7VWHaYTz"
      },
      "execution_count": 49,
      "outputs": []
    },
    {
      "cell_type": "code",
      "source": [
        "from collections import Counter # Import the Counter class from collections\n",
        "\n",
        "# Initialize the Counter object with the tokenized text\n",
        "ct = Counter(\" \".join(tweet_df[\"text_cleaned\"]).split()) # Assuming 'text_cleaned' column contains the cleaned text\n",
        "\n",
        "# Now you can use ct to get the most common words\n",
        "dict(ct.most_common(100))"
      ],
      "metadata": {
        "colab": {
          "base_uri": "https://localhost:8080/"
        },
        "id": "ZzsBavtOayop",
        "outputId": "62b0a169-9f53-438d-b77c-ab748560a252"
      },
      "execution_count": 50,
      "outputs": [
        {
          "output_type": "execute_result",
          "data": {
            "text/plain": [
              "{'i': 13179,\n",
              " 'to': 10015,\n",
              " 'the': 8985,\n",
              " 'a': 6789,\n",
              " 'my': 5512,\n",
              " 'and': 5070,\n",
              " 'you': 4813,\n",
              " 'it': 4062,\n",
              " 'is': 3973,\n",
              " 'in': 3784,\n",
              " 'for': 3652,\n",
              " 'of': 3145,\n",
              " 'im': 3055,\n",
              " 'on': 2852,\n",
              " 'me': 2812,\n",
              " 'have': 2594,\n",
              " 'so': 2577,\n",
              " 'that': 2568,\n",
              " 'but': 2304,\n",
              " 'just': 2245,\n",
              " 'with': 2094,\n",
              " 'day': 2086,\n",
              " 'its': 2018,\n",
              " 'be': 2011,\n",
              " 'at': 1888,\n",
              " 'not': 1837,\n",
              " 'was': 1821,\n",
              " 'all': 1612,\n",
              " 'this': 1550,\n",
              " 'good': 1549,\n",
              " 'now': 1517,\n",
              " 'out': 1494,\n",
              " 'up': 1465,\n",
              " 'get': 1427,\n",
              " 'are': 1365,\n",
              " 'no': 1351,\n",
              " 'like': 1346,\n",
              " 'go': 1267,\n",
              " 'dont': 1202,\n",
              " 'your': 1167,\n",
              " 'do': 1143,\n",
              " 'love': 1122,\n",
              " 'work': 1112,\n",
              " 'too': 1107,\n",
              " 'today': 1097,\n",
              " 'going': 1096,\n",
              " 'got': 1074,\n",
              " 'cant': 1030,\n",
              " 'from': 989,\n",
              " 'happy': 974,\n",
              " 'one': 971,\n",
              " 'lol': 951,\n",
              " 'am': 945,\n",
              " 'time': 943,\n",
              " 'know': 932,\n",
              " 'u': 931,\n",
              " 'what': 915,\n",
              " 'really': 908,\n",
              " 'will': 895,\n",
              " 'back': 891,\n",
              " 'about': 856,\n",
              " 'had': 836,\n",
              " 'we': 834,\n",
              " 'there': 824,\n",
              " 'see': 797,\n",
              " 'can': 796,\n",
              " 'some': 789,\n",
              " 'if': 773,\n",
              " 'well': 744,\n",
              " 'night': 744,\n",
              " 'new': 740,\n",
              " 'mothers': 719,\n",
              " 'home': 718,\n",
              " 'want': 714,\n",
              " 'think': 705,\n",
              " 'as': 696,\n",
              " 'more': 680,\n",
              " 'still': 679,\n",
              " 'when': 676,\n",
              " 'how': 675,\n",
              " 'oh': 665,\n",
              " 'much': 659,\n",
              " 'thanks': 658,\n",
              " 'they': 656,\n",
              " 'off': 654,\n",
              " 'here': 626,\n",
              " 'miss': 614,\n",
              " 'an': 612,\n",
              " 'great': 611,\n",
              " 'has': 596,\n",
              " 'hope': 589,\n",
              " 'last': 581,\n",
              " 'need': 570,\n",
              " 'morning': 557,\n",
              " 'haha': 555,\n",
              " 'thats': 554,\n",
              " 'her': 544,\n",
              " 'been': 539,\n",
              " 'ill': 535,\n",
              " 'fun': 526}"
            ]
          },
          "metadata": {},
          "execution_count": 50
        }
      ]
    },
    {
      "cell_type": "code",
      "source": [
        "# Pre-processing function: remove custom stopwords\n",
        "def remove_stopwords(text):\n",
        "    tokens = text.split()\n",
        "    cleaned_tokens = [word for word in tokens if word not in custom_stopwords]\n",
        "    return \" \".join(cleaned_tokens)"
      ],
      "metadata": {
        "id": "TalXSHqxeJs3"
      },
      "execution_count": 51,
      "outputs": []
    },
    {
      "cell_type": "code",
      "source": [
        "import matplotlib.pyplot as plt # Import the pyplot module from matplotlib and alias it as 'plt'\n",
        "\n",
        "#Distribution of 50 most common tokens\n",
        "\n",
        "plt.figure(figsize=(10,5))\n",
        "\n",
        "plt.bar(x=dict(ct.most_common(50)).keys(),height=dict(ct.most_common(50)).values())\n",
        "\n",
        "plt.xticks(rotation=45)\n",
        "\n",
        "plt.xlabel('most common words in tweets')\n",
        "\n",
        "plt.show()"
      ],
      "metadata": {
        "colab": {
          "base_uri": "https://localhost:8080/",
          "height": 491
        },
        "id": "wF_Y6vrYbJTh",
        "outputId": "3712a019-95e2-45e9-c227-728750cb05de"
      },
      "execution_count": 52,
      "outputs": [
        {
          "output_type": "display_data",
          "data": {
            "text/plain": [
              "<Figure size 1000x500 with 1 Axes>"
            ],
            "image/png": "[encoded data removed]"
          },
          "metadata": {}
        }
      ]
    },
    {
      "cell_type": "code",
      "source": [
        "# Custom stopwords list\n",
        "custom_stopwords = set([\n",
        "    \"i\", \"me\", \"my\", \"myself\", \"we\", \"our\", \"ours\", \"ourselves\", \"you\", \"your\",\n",
        "    \"yours\", \"yourself\", \"yourselves\", \"he\", \"him\", \"his\", \"himself\", \"she\",\n",
        "    \"her\", \"hers\", \"herself\", \"it\", \"its\", \"itself\", \"they\", \"them\", \"their\",\n",
        "    \"theirs\", \"themselves\", \"what\", \"which\", \"who\", \"whom\", \"this\", \"that\",\n",
        "    \"these\", \"those\", \"am\", \"is\", \"are\", \"was\", \"were\", \"be\", \"been\", \"being\",\n",
        "    \"have\", \"has\", \"had\", \"having\", \"do\", \"does\", \"did\", \"doing\", \"a\", \"an\",\n",
        "    \"the\", \"and\", \"but\", \"if\", \"or\", \"because\", \"as\", \"until\", \"while\", \"of\",\n",
        "    \"at\", \"by\", \"for\", \"with\", \"about\", \"against\", \"between\", \"into\", \"through\",\n",
        "    \"during\", \"before\", \"after\", \"above\", \"below\", \"to\", \"from\", \"up\", \"down\",\n",
        "    \"in\", \"out\", \"on\", \"off\", \"over\", \"under\", \"again\", \"further\", \"then\",\n",
        "    \"once\", \"here\", \"there\", \"when\", \"where\", \"why\", \"how\", \"all\", \"any\",\n",
        "    \"both\", \"each\", \"few\", \"more\", \"most\", \"other\", \"some\", \"such\", \"no\",\n",
        "    \"nor\", \"not\", \"only\", \"own\", \"same\", \"so\", \"than\", \"too\", \"very\", \"s\",\n",
        "    \"t\", \"can\", \"will\", \"just\", \"don\", \"should\", \"now\", \"d\", \"ll\", \"m\", \"o\",\n",
        "    \"re\", \"ve\", \"y\", \"ain\", \"aren\", \"couldn\", \"didn\", \"doesn\", \"hadn\",\n",
        "    \"hasn\", \"haven\", \"isn\", \"ma\", \"mightn\", \"mustn\", \"needn\", \"shan\",\n",
        "    \"shouldn\", \"wasn\", \"weren\", \"won\", \"wouldn\"\n",
        "])"
      ],
      "metadata": {
        "id": "puGzwBueYnNf"
      },
      "execution_count": 53,
      "outputs": []
    },
    {
      "cell_type": "code",
      "source": [
        "# Apply stopword removal\n",
        "tweet_df['text_cleaned_no_stopwords'] = tweet_df['text_cleaned'].apply(remove_stopwords)\n",
        "tweet_df['selected_text_cleaned_no_stopwords'] = tweet_df['selected_text_cleaned'].apply(remove_stopwords)\n",
        "\n",
        "# Initialize the TF-IDF Vectorizer\n",
        "vectorizer = TfidfVectorizer(stop_words='english')  # Using English stopwords from sklearn\n",
        "\n",
        "# Vectorize the cleaned 'text' column\n",
        "X_tfidf = vectorizer.fit_transform(tweet_df['text_cleaned_no_stopwords'])\n",
        "\n",
        "# Display the cleaned data and the shape of the TF-IDF matrix\n",
        "print(\"Sample of cleaned data:\")\n",
        "print(tweet_df[['text', 'text_cleaned', 'selected_text', 'selected_text_cleaned_no_stopwords']].head())\n",
        "\n",
        "print(f\"TF-IDF matrix shape: {X_tfidf.shape}\")"
      ],
      "metadata": {
        "colab": {
          "base_uri": "https://localhost:8080/"
        },
        "id": "y4WcJpMpFdpn",
        "outputId": "442f05f9-0a60-4c39-bea1-3598ceb4ec12"
      },
      "execution_count": 54,
      "outputs": [
        {
          "output_type": "stream",
          "name": "stdout",
          "text": [
            "Sample of cleaned data:\n",
            "                                                text  \\\n",
            "0                I`d have responded, if I were going   \n",
            "1      Sooo SAD I will miss you here in San Diego!!!   \n",
            "2                          my boss is bullying me...   \n",
            "3                     what interview! leave me alone   \n",
            "4   Sons of ****, why couldn`t they put them on t...   \n",
            "\n",
            "                                        text_cleaned  \\\n",
            "0                  id have responded if i were going   \n",
            "1         sooo sad i will miss you here in san diego   \n",
            "2                             my boss is bullying me   \n",
            "3                      what interview leave me alone   \n",
            "4   sons of  why couldnt they put them on the rel...   \n",
            "\n",
            "                         selected_text selected_text_cleaned_no_stopwords  \n",
            "0  I`d have responded, if I were going                 id responded going  \n",
            "1                             Sooo SAD                           sooo sad  \n",
            "2                          bullying me                           bullying  \n",
            "3                       leave me alone                        leave alone  \n",
            "4                        Sons of ****,                               sons  \n",
            "TF-IDF matrix shape: (27480, 26059)\n"
          ]
        }
      ]
    },
    {
      "cell_type": "code",
      "source": [
        "tweet_df.head(5)"
      ],
      "metadata": {
        "colab": {
          "base_uri": "https://localhost:8080/",
          "height": 206
        },
        "id": "il8R7KocF5It",
        "outputId": "55ec25cd-c927-4825-bcfd-633b80b1ea1f"
      },
      "execution_count": 55,
      "outputs": [
        {
          "output_type": "execute_result",
          "data": {
            "text/plain": [
              "       textID                                               text  \\\n",
              "0  cb774db0d1                I`d have responded, if I were going   \n",
              "1  549e992a42      Sooo SAD I will miss you here in San Diego!!!   \n",
              "2  088c60f138                          my boss is bullying me...   \n",
              "3  9642c003ef                     what interview! leave me alone   \n",
              "4  358bd9e861   Sons of ****, why couldn`t they put them on t...   \n",
              "\n",
              "                         selected_text sentiment  \\\n",
              "0  I`d have responded, if I were going   neutral   \n",
              "1                             Sooo SAD  negative   \n",
              "2                          bullying me  negative   \n",
              "3                       leave me alone  negative   \n",
              "4                        Sons of ****,  negative   \n",
              "\n",
              "                                        text_cleaned  \\\n",
              "0                  id have responded if i were going   \n",
              "1         sooo sad i will miss you here in san diego   \n",
              "2                             my boss is bullying me   \n",
              "3                      what interview leave me alone   \n",
              "4   sons of  why couldnt they put them on the rel...   \n",
              "\n",
              "               selected_text_cleaned  \\\n",
              "0  id have responded if i were going   \n",
              "1                           sooo sad   \n",
              "2                        bullying me   \n",
              "3                     leave me alone   \n",
              "4                           sons of    \n",
              "\n",
              "                  text_cleaned_no_stopwords selected_text_cleaned_no_stopwords  \n",
              "0                        id responded going                 id responded going  \n",
              "1                   sooo sad miss san diego                           sooo sad  \n",
              "2                             boss bullying                           bullying  \n",
              "3                     interview leave alone                        leave alone  \n",
              "4  sons couldnt put releases already bought                               sons  "
            ],
            "text/html": [
              "\n",
              "  <div id=\"df-8921288b-5021-44a8-b0a7-640a90d75693\" class=\"colab-df-container\">\n",
              "    <div>\n",
              "<style scoped>\n",
              "    .dataframe tbody tr th:only-of-type {\n",
              "        vertical-align: middle;\n",
              "    }\n",
              "\n",
              "    .dataframe tbody tr th {\n",
              "        vertical-align: top;\n",
              "    }\n",
              "\n",
              "    .dataframe thead th {\n",
              "        text-align: right;\n",
              "    }\n",
              "</style>\n",
              "<table border=\"1\" class=\"dataframe\">\n",
              "  <thead>\n",
              "    <tr style=\"text-align: right;\">\n",
              "      <th></th>\n",
              "      <th>textID</th>\n",
              "      <th>text</th>\n",
              "      <th>selected_text</th>\n",
              "      <th>sentiment</th>\n",
              "      <th>text_cleaned</th>\n",
              "      <th>selected_text_cleaned</th>\n",
              "      <th>text_cleaned_no_stopwords</th>\n",
              "      <th>selected_text_cleaned_no_stopwords</th>\n",
              "    </tr>\n",
              "  </thead>\n",
              "  <tbody>\n",
              "    <tr>\n",
              "      <th>0</th>\n",
              "      <td>cb774db0d1</td>\n",
              "      <td>I`d have responded, if I were going</td>\n",
              "      <td>I`d have responded, if I were going</td>\n",
              "      <td>neutral</td>\n",
              "      <td>id have responded if i were going</td>\n",
              "      <td>id have responded if i were going</td>\n",
              "      <td>id responded going</td>\n",
              "      <td>id responded going</td>\n",
              "    </tr>\n",
              "    <tr>\n",
              "      <th>1</th>\n",
              "      <td>549e992a42</td>\n",
              "      <td>Sooo SAD I will miss you here in San Diego!!!</td>\n",
              "      <td>Sooo SAD</td>\n",
              "      <td>negative</td>\n",
              "      <td>sooo sad i will miss you here in san diego</td>\n",
              "      <td>sooo sad</td>\n",
              "      <td>sooo sad miss san diego</td>\n",
              "      <td>sooo sad</td>\n",
              "    </tr>\n",
              "    <tr>\n",
              "      <th>2</th>\n",
              "      <td>088c60f138</td>\n",
              "      <td>my boss is bullying me...</td>\n",
              "      <td>bullying me</td>\n",
              "      <td>negative</td>\n",
              "      <td>my boss is bullying me</td>\n",
              "      <td>bullying me</td>\n",
              "      <td>boss bullying</td>\n",
              "      <td>bullying</td>\n",
              "    </tr>\n",
              "    <tr>\n",
              "      <th>3</th>\n",
              "      <td>9642c003ef</td>\n",
              "      <td>what interview! leave me alone</td>\n",
              "      <td>leave me alone</td>\n",
              "      <td>negative</td>\n",
              "      <td>what interview leave me alone</td>\n",
              "      <td>leave me alone</td>\n",
              "      <td>interview leave alone</td>\n",
              "      <td>leave alone</td>\n",
              "    </tr>\n",
              "    <tr>\n",
              "      <th>4</th>\n",
              "      <td>358bd9e861</td>\n",
              "      <td>Sons of ****, why couldn`t they put them on t...</td>\n",
              "      <td>Sons of ****,</td>\n",
              "      <td>negative</td>\n",
              "      <td>sons of  why couldnt they put them on the rel...</td>\n",
              "      <td>sons of</td>\n",
              "      <td>sons couldnt put releases already bought</td>\n",
              "      <td>sons</td>\n",
              "    </tr>\n",
              "  </tbody>\n",
              "</table>\n",
              "</div>\n",
              "    <div class=\"colab-df-buttons\">\n",
              "\n",
              "  <div class=\"colab-df-container\">\n",
              "    <button class=\"colab-df-convert\" onclick=\"convertToInteractive('df-8921288b-5021-44a8-b0a7-640a90d75693')\"\n",
              "            title=\"Convert this dataframe to an interactive table.\"\n",
              "            style=\"display:none;\">\n",
              "\n",
              "  <svg xmlns=\"http://www.w3.org/2000/svg\" height=\"24px\" viewBox=\"0 -960 960 960\">\n",
              "    <path d=\"M120-120v-720h720v720H120Zm60-500h600v-160H180v160Zm220 220h160v-160H400v160Zm0 220h160v-160H400v160ZM180-400h160v-160H180v160Zm440 0h160v-160H620v160ZM180-180h160v-160H180v160Zm440 0h160v-160H620v160Z\"/>\n",
              "  </svg>\n",
              "    </button>\n",
              "\n",
              "  <style>\n",
              "    .colab-df-container {\n",
              "      display:flex;\n",
              "      gap: 12px;\n",
              "    }\n",
              "\n",
              "    .colab-df-convert {\n",
              "      background-color: #E8F0FE;\n",
              "      border: none;\n",
              "      border-radius: 50%;\n",
              "      cursor: pointer;\n",
              "      display: none;\n",
              "      fill: #1967D2;\n",
              "      height: 32px;\n",
              "      padding: 0 0 0 0;\n",
              "      width: 32px;\n",
              "    }\n",
              "\n",
              "    .colab-df-convert:hover {\n",
              "      background-color: #E2EBFA;\n",
              "      box-shadow: 0px 1px 2px rgba(60, 64, 67, 0.3), 0px 1px 3px 1px rgba(60, 64, 67, 0.15);\n",
              "      fill: #174EA6;\n",
              "    }\n",
              "\n",
              "    .colab-df-buttons div {\n",
              "      margin-bottom: 4px;\n",
              "    }\n",
              "\n",
              "    [theme=dark] .colab-df-convert {\n",
              "      background-color: #3B4455;\n",
              "      fill: #D2E3FC;\n",
              "    }\n",
              "\n",
              "    [theme=dark] .colab-df-convert:hover {\n",
              "      background-color: #434B5C;\n",
              "      box-shadow: 0px 1px 3px 1px rgba(0, 0, 0, 0.15);\n",
              "      filter: drop-shadow(0px 1px 2px rgba(0, 0, 0, 0.3));\n",
              "      fill: #FFFFFF;\n",
              "    }\n",
              "  </style>\n",
              "\n",
              "    <script>\n",
              "      const buttonEl =\n",
              "        document.querySelector('#df-8921288b-5021-44a8-b0a7-640a90d75693 button.colab-df-convert');\n",
              "      buttonEl.style.display =\n",
              "        google.colab.kernel.accessAllowed ? 'block' : 'none';\n",
              "\n",
              "      async function convertToInteractive(key) {\n",
              "        const element = document.querySelector('#df-8921288b-5021-44a8-b0a7-640a90d75693');\n",
              "        const dataTable =\n",
              "          await google.colab.kernel.invokeFunction('convertToInteractive',\n",
              "                                                    [key], {});\n",
              "        if (!dataTable) return;\n",
              "\n",
              "        const docLinkHtml = 'Like what you see? Visit the ' +\n",
              "          '<a target=\"_blank\" href=https://colab.research.google.com/notebooks/data_table.ipynb>data table notebook</a>'\n",
              "          + ' to learn more about interactive tables.';\n",
              "        element.innerHTML = '';\n",
              "        dataTable['output_type'] = 'display_data';\n",
              "        await google.colab.output.renderOutput(dataTable, element);\n",
              "        const docLink = document.createElement('div');\n",
              "        docLink.innerHTML = docLinkHtml;\n",
              "        element.appendChild(docLink);\n",
              "      }\n",
              "    </script>\n",
              "  </div>\n",
              "\n",
              "\n",
              "<div id=\"df-fc5a749a-dda0-4d69-8bd9-9ed6f0959689\">\n",
              "  <button class=\"colab-df-quickchart\" onclick=\"quickchart('df-fc5a749a-dda0-4d69-8bd9-9ed6f0959689')\"\n",
              "            title=\"Suggest charts\"\n",
              "            style=\"display:none;\">\n",
              "\n",
              "<svg xmlns=\"http://www.w3.org/2000/svg\" height=\"24px\"viewBox=\"0 0 24 24\"\n",
              "     width=\"24px\">\n",
              "    <g>\n",
              "        <path d=\"M19 3H5c-1.1 0-2 .9-2 2v14c0 1.1.9 2 2 2h14c1.1 0 2-.9 2-2V5c0-1.1-.9-2-2-2zM9 17H7v-7h2v7zm4 0h-2V7h2v10zm4 0h-2v-4h2v4z\"/>\n",
              "    </g>\n",
              "</svg>\n",
              "  </button>\n",
              "\n",
              "<style>\n",
              "  .colab-df-quickchart {\n",
              "      --bg-color: #E8F0FE;\n",
              "      --fill-color: #1967D2;\n",
              "      --hover-bg-color: #E2EBFA;\n",
              "      --hover-fill-color: #174EA6;\n",
              "      --disabled-fill-color: #AAA;\n",
              "      --disabled-bg-color: #DDD;\n",
              "  }\n",
              "\n",
              "  [theme=dark] .colab-df-quickchart {\n",
              "      --bg-color: #3B4455;\n",
              "      --fill-color: #D2E3FC;\n",
              "      --hover-bg-color: #434B5C;\n",
              "      --hover-fill-color: #FFFFFF;\n",
              "      --disabled-bg-color: #3B4455;\n",
              "      --disabled-fill-color: #666;\n",
              "  }\n",
              "\n",
              "  .colab-df-quickchart {\n",
              "    background-color: var(--bg-color);\n",
              "    border: none;\n",
              "    border-radius: 50%;\n",
              "    cursor: pointer;\n",
              "    display: none;\n",
              "    fill: var(--fill-color);\n",
              "    height: 32px;\n",
              "    padding: 0;\n",
              "    width: 32px;\n",
              "  }\n",
              "\n",
              "  .colab-df-quickchart:hover {\n",
              "    background-color: var(--hover-bg-color);\n",
              "    box-shadow: 0 1px 2px rgba(60, 64, 67, 0.3), 0 1px 3px 1px rgba(60, 64, 67, 0.15);\n",
              "    fill: var(--button-hover-fill-color);\n",
              "  }\n",
              "\n",
              "  .colab-df-quickchart-complete:disabled,\n",
              "  .colab-df-quickchart-complete:disabled:hover {\n",
              "    background-color: var(--disabled-bg-color);\n",
              "    fill: var(--disabled-fill-color);\n",
              "    box-shadow: none;\n",
              "  }\n",
              "\n",
              "  .colab-df-spinner {\n",
              "    border: 2px solid var(--fill-color);\n",
              "    border-color: transparent;\n",
              "    border-bottom-color: var(--fill-color);\n",
              "    animation:\n",
              "      spin 1s steps(1) infinite;\n",
              "  }\n",
              "\n",
              "  @keyframes spin {\n",
              "    0% {\n",
              "      border-color: transparent;\n",
              "      border-bottom-color: var(--fill-color);\n",
              "      border-left-color: var(--fill-color);\n",
              "    }\n",
              "    20% {\n",
              "      border-color: transparent;\n",
              "      border-left-color: var(--fill-color);\n",
              "      border-top-color: var(--fill-color);\n",
              "    }\n",
              "    30% {\n",
              "      border-color: transparent;\n",
              "      border-left-color: var(--fill-color);\n",
              "      border-top-color: var(--fill-color);\n",
              "      border-right-color: var(--fill-color);\n",
              "    }\n",
              "    40% {\n",
              "      border-color: transparent;\n",
              "      border-right-color: var(--fill-color);\n",
              "      border-top-color: var(--fill-color);\n",
              "    }\n",
              "    60% {\n",
              "      border-color: transparent;\n",
              "      border-right-color: var(--fill-color);\n",
              "    }\n",
              "    80% {\n",
              "      border-color: transparent;\n",
              "      border-right-color: var(--fill-color);\n",
              "      border-bottom-color: var(--fill-color);\n",
              "    }\n",
              "    90% {\n",
              "      border-color: transparent;\n",
              "      border-bottom-color: var(--fill-color);\n",
              "    }\n",
              "  }\n",
              "</style>\n",
              "\n",
              "  <script>\n",
              "    async function quickchart(key) {\n",
              "      const quickchartButtonEl =\n",
              "        document.querySelector('#' + key + ' button');\n",
              "      quickchartButtonEl.disabled = true;  // To prevent multiple clicks.\n",
              "      quickchartButtonEl.classList.add('colab-df-spinner');\n",
              "      try {\n",
              "        const charts = await google.colab.kernel.invokeFunction(\n",
              "            'suggestCharts', [key], {});\n",
              "      } catch (error) {\n",
              "        console.error('Error during call to suggestCharts:', error);\n",
              "      }\n",
              "      quickchartButtonEl.classList.remove('colab-df-spinner');\n",
              "      quickchartButtonEl.classList.add('colab-df-quickchart-complete');\n",
              "    }\n",
              "    (() => {\n",
              "      let quickchartButtonEl =\n",
              "        document.querySelector('#df-fc5a749a-dda0-4d69-8bd9-9ed6f0959689 button');\n",
              "      quickchartButtonEl.style.display =\n",
              "        google.colab.kernel.accessAllowed ? 'block' : 'none';\n",
              "    })();\n",
              "  </script>\n",
              "</div>\n",
              "\n",
              "    </div>\n",
              "  </div>\n"
            ],
            "application/vnd.google.colaboratory.intrinsic+json": {
              "type": "dataframe",
              "variable_name": "tweet_df",
              "summary": "{\n  \"name\": \"tweet_df\",\n  \"rows\": 27480,\n  \"fields\": [\n    {\n      \"column\": \"textID\",\n      \"properties\": {\n        \"dtype\": \"string\",\n        \"num_unique_values\": 27480,\n        \"samples\": [\n          \"6c5505a37c\",\n          \"126b1e6a22\",\n          \"5bc4e623c4\"\n        ],\n        \"semantic_type\": \"\",\n        \"description\": \"\"\n      }\n    },\n    {\n      \"column\": \"text\",\n      \"properties\": {\n        \"dtype\": \"string\",\n        \"num_unique_values\": 27480,\n        \"samples\": [\n          \" Enjoy! Family trumps everything\",\n          \" --of them kinda turns me off of it all.  And then I buy more of them and dig a deeper hole, etc. ;;\",\n          \"Clive it`s my birthday pat me  http://apps.facebook.com/dogbook/profile/view/6386106\"\n        ],\n        \"semantic_type\": \"\",\n        \"description\": \"\"\n      }\n    },\n    {\n      \"column\": \"selected_text\",\n      \"properties\": {\n        \"dtype\": \"string\",\n        \"num_unique_values\": 22430,\n        \"samples\": [\n          \"that is why I drive a (teeny tiny) honda civic\",\n          \"Sorry...but, I bet they aren`t that bad...\",\n          \"yummy\"\n        ],\n        \"semantic_type\": \"\",\n        \"description\": \"\"\n      }\n    },\n    {\n      \"column\": \"sentiment\",\n      \"properties\": {\n        \"dtype\": \"category\",\n        \"num_unique_values\": 3,\n        \"samples\": [\n          \"neutral\",\n          \"negative\",\n          \"positive\"\n        ],\n        \"semantic_type\": \"\",\n        \"description\": \"\"\n      }\n    },\n    {\n      \"column\": \"text_cleaned\",\n      \"properties\": {\n        \"dtype\": \"string\",\n        \"num_unique_values\": 27301,\n        \"samples\": [\n          \"mak request me on bbm  send all ur contact info everything didnt sync up from old phn  i have ur tmail info haha  dated\",\n          \" hours til im on a plane ahhh yay\",\n          \" dont know yet  lemme know if you come up with something though\"\n        ],\n        \"semantic_type\": \"\",\n        \"description\": \"\"\n      }\n    },\n    {\n      \"column\": \"selected_text_cleaned\",\n      \"properties\": {\n        \"dtype\": \"string\",\n        \"num_unique_values\": 20987,\n        \"samples\": [\n          \"no one wants a \",\n          \"hope our wishes come true someday\",\n          \" he has a favourite youre his favourite  omgaah   sorry for creepering not really lo\"\n        ],\n        \"semantic_type\": \"\",\n        \"description\": \"\"\n      }\n    },\n    {\n      \"column\": \"text_cleaned_no_stopwords\",\n      \"properties\": {\n        \"dtype\": \"string\",\n        \"num_unique_values\": 26825,\n        \"samples\": [\n          \"surfing twitter\",\n          \"school guy like talking girl cant stand ppl soooughhhh\",\n          \"dentist hole tooth\"\n        ],\n        \"semantic_type\": \"\",\n        \"description\": \"\"\n      }\n    },\n    {\n      \"column\": \"selected_text_cleaned_no_stopwords\",\n      \"properties\": {\n        \"dtype\": \"string\",\n        \"num_unique_values\": 19436,\n        \"samples\": [\n          \"offer like\",\n          \"ry nervou\",\n          \"loved youre amazing\"\n        ],\n        \"semantic_type\": \"\",\n        \"description\": \"\"\n      }\n    }\n  ]\n}"
            }
          },
          "metadata": {},
          "execution_count": 55
        }
      ]
    },
    {
      "cell_type": "markdown",
      "source": [
        "#Section 2"
      ],
      "metadata": {
        "id": "ykMjtHaPg_C5"
      }
    },
    {
      "cell_type": "markdown",
      "source": [
        "In this section, the goal is to convert the text into a numerical format for machine learning algorithms. The TF-IDF (Term Frequency-Inverse Document Frequency) vectorization technique is employed, which gives weights to words based on their frequency within a document and across the entire dataset.\n",
        "\n",
        "*   Term Frequency (TF) measures how often a word appears in a document relative to the total number of words in the same document\n",
        "\n",
        "*  Inverse Document Frequency (IDF) measures the importance of a word by considering how often it appears across all documents. Words that appear in many documents are given lower weight, since they give less info.\n",
        "\n",
        "By combining these, TF-IDF is an effective method for identifying key features.\n",
        "\n",
        "In this case, TF-IDF is applied to the 'text_cleaned_no_stopwords' and 'selected_text_cleaned_no_stopwords' columns, which have been preprocessed by removing stopwords and non-alphabetic characters. The resulting vectors are now ready for use in machine learning models, providing numerical representations of the text that can be processed by algorithms for sentiment analysis or other classification tasks."
      ],
      "metadata": {
        "id": "pg7BWzNvXspl"
      }
    },
    {
      "cell_type": "code",
      "source": [
        "# Initialize the TF-IDF Vectorizer\n",
        "vectorizer = TfidfVectorizer(stop_words='english')  # 'english' stopwords from sklearn can be used along with custom ones\n",
        "\n",
        "# Vectorize the cleaned text column without stopwords (using 'text_cleaned_no_stopwords')\n",
        "X_tfidf_text = vectorizer.fit_transform(tweet_df['text_cleaned_no_stopwords'])\n",
        "\n",
        "# Vectorize the selected text column without stopwords (using 'selected_text_cleaned_no_stopwords')\n",
        "X_tfidf_selected_text = vectorizer.fit_transform(tweet_df['selected_text_cleaned_no_stopwords'])\n",
        "\n",
        "# Display the shape of the TF-IDF matrices\n",
        "print(f\"TF-IDF matrix for 'text_cleaned_no_stopwords' shape: {X_tfidf_text.shape}\")\n",
        "print(f\"TF-IDF matrix for 'selected_text_cleaned_no_stopwords' shape: {X_tfidf_selected_text.shape}\")"
      ],
      "metadata": {
        "colab": {
          "base_uri": "https://localhost:8080/"
        },
        "id": "nLC1oSCIcp8u",
        "outputId": "99d251d0-c4fb-4231-bc45-9fd74d5ad7a5"
      },
      "execution_count": 56,
      "outputs": [
        {
          "output_type": "stream",
          "name": "stdout",
          "text": [
            "TF-IDF matrix for 'text_cleaned_no_stopwords' shape: (27480, 26059)\n",
            "TF-IDF matrix for 'selected_text_cleaned_no_stopwords' shape: (27480, 17339)\n"
          ]
        }
      ]
    },
    {
      "cell_type": "code",
      "source": [
        "print(X_tfidf_text)"
      ],
      "metadata": {
        "colab": {
          "base_uri": "https://localhost:8080/"
        },
        "id": "1EGu_ZgicVzw",
        "outputId": "86073d3d-ba1d-4fe5-85c4-66097603742b"
      },
      "execution_count": 57,
      "outputs": [
        {
          "output_type": "stream",
          "name": "stdout",
          "text": [
            "  (0, 10860)\t0.47606233839599693\n",
            "  (0, 18718)\t0.8154850428690742\n",
            "  (0, 9140)\t0.3291637811451308\n",
            "  (1, 20811)\t0.4245002417840429\n",
            "  (1, 19256)\t0.33061361903811365\n",
            "  (1, 14394)\t0.31373108226408325\n",
            "  (1, 19348)\t0.538064461113974\n",
            "  (1, 6009)\t0.5679380453353569\n",
            "  (2, 2703)\t0.6112053120793377\n",
            "  (2, 3132)\t0.7914720882545381\n",
            "  (3, 11284)\t0.7834445624729018\n",
            "  (3, 12705)\t0.6214616782486618\n",
            "  (4, 20795)\t0.5925371516906595\n",
            "  (4, 18534)\t0.6646744248094097\n",
            "  (4, 2727)\t0.4550907962930042\n",
            "  (5, 19867)\t0.4787765978840259\n",
            "  (5, 17225)\t0.44725499799532276\n",
            "  (5, 2146)\t0.2503103267829346\n",
            "  (5, 18169)\t0.44725499799532276\n",
            "  (5, 8317)\t0.4157333981066197\n",
            "  (5, 6764)\t0.36770828772214076\n",
            "  (6, 7780)\t0.5541564871498404\n",
            "  (6, 1562)\t0.3245007346096257\n",
            "  (6, 8581)\t0.2627974660312698\n",
            "  (6, 20575)\t0.459845561667017\n",
            "  :\t:\n",
            "  (27476, 15238)\t0.2960268918952393\n",
            "  (27476, 4271)\t0.3178853081306342\n",
            "  (27476, 4252)\t0.29378271368182085\n",
            "  (27476, 8259)\t0.3068118141496576\n",
            "  (27476, 5952)\t0.3519913831056153\n",
            "  (27476, 25299)\t0.366090497028261\n",
            "  (27476, 18148)\t0.366090497028261\n",
            "  (27477, 9165)\t0.17517381641933952\n",
            "  (27477, 25667)\t0.26305544382365287\n",
            "  (27477, 17679)\t0.2861815146764553\n",
            "  (27477, 7131)\t0.28075558053864935\n",
            "  (27477, 10722)\t0.3367654796538073\n",
            "  (27477, 15163)\t0.218457398101422\n",
            "  (27477, 2840)\t0.30202523093558503\n",
            "  (27477, 24806)\t0.23552781883687696\n",
            "  (27477, 3504)\t0.31717149812220424\n",
            "  (27477, 10074)\t0.4146920606529259\n",
            "  (27477, 25604)\t0.39874544654530514\n",
            "  (27478, 25445)\t1.0\n",
            "  (27479, 9140)\t0.21571353285458178\n",
            "  (27479, 20575)\t0.4434666104941948\n",
            "  (27479, 25667)\t0.29866383422494286\n",
            "  (27479, 10692)\t0.36437343913101256\n",
            "  (27479, 8095)\t0.4992334045407334\n",
            "  (27479, 1298)\t0.5344183341659863\n"
          ]
        }
      ]
    },
    {
      "cell_type": "markdown",
      "source": [
        "#Section 3"
      ],
      "metadata": {
        "id": "TzFkSFWwgDtb"
      }
    },
    {
      "cell_type": "markdown",
      "source": [
        "1. Support Vector Machines (SVM)\n",
        "\n",
        "Support Vector Machines (SVM) are supervised learning algorithms used for classification tasks. SVM's goal is to find the optimal hyperplane that classifies text data into categories such as positive, negative, and neutral sentiments.\n",
        "\n",
        "SVM works by maximizing the margin between the closest points from each class, called support vectors. If the data isn't linearly separable, SVM uses a kernel trick to map the data into a higher-dimensional space where a linear boundary can be drawn.\n",
        "\n",
        "SVM is effective in high-dimensional spaces, which is typical in text classification, making it a strong choice for sentiment analysis.\n",
        "\n",
        "2. Multilayer Perceptrons (MLP)\n",
        "\n",
        "These are neural networks that consist of multiple layers of neurons. Each neuron performs a weighted sum of inputs and applies an activation function to produce an output, which is passed to the next layer.\n",
        "\n",
        "These networks use non-linear activation functions to learn complex patterns and relationships in data. While they are versatile and effective for various classification tasks, they require extensive data and computational power to train effectively and are pronw to overfitting without proper regularization."
      ],
      "metadata": {
        "id": "kubkUL_fTzn2"
      }
    },
    {
      "cell_type": "code",
      "source": [
        "from sklearn.svm import SVC\n",
        "from sklearn.model_selection import train_test_split, GridSearchCV\n",
        "from sklearn.metrics import classification_report\n",
        "\n",
        "# Use the TF-IDF matrix (X_tfidf_text) and the sentiment labels (y)\n",
        "X = X_tfidf_text  # TF-IDF features for 'text_cleaned_no_stopwords'\n",
        "y = tweet_df['sentiment']  # Sentiment labels\n",
        "\n",
        "# Split the data into training and testing sets\n",
        "X_train, X_test, y_train, y_test = train_test_split(X, y, test_size=0.2, random_state=42)\n",
        "\n",
        "# Define parameter grid for SVM\n",
        "param_grid = {'C': [0.1, 1, 10], 'kernel': ['linear', 'rbf']}\n",
        "\n",
        "# Grid Search for hyperparameter tuning\n",
        "grid_search = GridSearchCV(SVC(), param_grid, cv=5)\n",
        "grid_search.fit(X_train, y_train)\n",
        "print(f\"Best parameters for SVM: {grid_search.best_params_}\")\n",
        "\n",
        "# Train the model with the best parameters\n",
        "svm_model = grid_search.best_estimator_\n",
        "\n",
        "# Make predictions\n",
        "y_pred = svm_model.predict(X_test)\n",
        "\n",
        "# Print classification report\n",
        "print(classification_report(y_test, y_pred))"
      ],
      "metadata": {
        "id": "uq2KjH1zX0WM"
      },
      "execution_count": null,
      "outputs": []
    },
    {
      "cell_type": "code",
      "source": [
        "from tensorflow.keras.models import Sequential\n",
        "from tensorflow.keras.layers import Dense, Dropout\n",
        "from sklearn.preprocessing import LabelEncoder\n",
        "import numpy as np\n",
        "from tensorflow.keras.callbacks import EarlyStopping\n",
        "\n",
        "# Initialize the MLP model\n",
        "model_mlp = Sequential()\n",
        "model_mlp.add(Dense(128, input_dim=X_train.shape[1], activation='relu', kernel_regularizer='l2'))  # L2 regularization\n",
        "model_mlp.add(Dropout(0.2))  # Dropout to prevent overfitting\n",
        "model_mlp.add(Dense(64, activation='relu', kernel_regularizer='l2'))  # L2 regularization\n",
        "model_mlp.add(Dense(3, activation='softmax'))  # 3 classes: positive, negative, neutral\n",
        "model_mlp.compile(loss='categorical_crossentropy', optimizer='adam', metrics=['accuracy'])\n",
        "\n",
        "# Convert y_train to numerical format using LabelEncoder\n",
        "encoder = LabelEncoder()\n",
        "y_train_encoded = encoder.fit_transform(y_train)\n",
        "\n",
        "# Convert encoded labels to one-hot encoding\n",
        "y_train_onehot = np.eye(3)[y_train_encoded]\n",
        "\n",
        "# Split the data into training and testing sets\n",
        "X_train_mlp, X_test_mlp, y_train_mlp, y_test_mlp = train_test_split(X, y_numerical, test_size=0.2, random_state=42)\n",
        "\n",
        "# Early stopping to prevent overfitting\n",
        "early_stopping_mlp = EarlyStopping(monitor='val_loss', patience=3)\n",
        "\n",
        "# Train the model using one-hot encoded labels\n",
        "model_mlp.fit(X_train_mlp, y_train_onehot, epochs=10, batch_size=64, validation_data=(X_test_mlp, y_test_mlp), callbacks=[early_stopping_mlp])\n",
        "\n",
        "# For evaluation, you'll need to encode y_test as well\n",
        "y_test_encoded = encoder.transform(y_test)\n",
        "y_test_onehot = np.eye(3)[y_test_encoded]\n",
        "\n",
        "# Evaluate the model\n",
        "loss, accuracy = model_mlp.evaluate(X_test_mlp, y_test_onehot)"
      ],
      "metadata": {
        "id": "EJwphrMJe_R0"
      },
      "execution_count": null,
      "outputs": []
    },
    {
      "cell_type": "markdown",
      "source": [
        "# Section 4: Evaluation"
      ],
      "metadata": {
        "id": "N16fTyQRSZgP"
      }
    },
    {
      "cell_type": "code",
      "source": [
        "import matplotlib.pyplot as plt\n",
        "import seaborn as sns\n",
        "import pandas as pd\n",
        "\n",
        "# Assuming svm_pred and mlp_pred are already calculated:\n",
        "# svm_pred = accuracy of SVM model\n",
        "# mlp_pred = accuracy of MLP model\n",
        "\n",
        "# Create a DataFrame with the accuracies\n",
        "accuracy_data = pd.DataFrame({\n",
        "    'Model': ['SVM', 'MLP'],\n",
        "    'Accuracy': [svm_pred, mlp_pred]\n",
        "})\n",
        "\n",
        "# Plotting the boxplot\n",
        "plt.figure(figsize=(8, 6))\n",
        "sns.boxplot(x='Model', y='Accuracy', data=accuracy_data, palette=\"Blues\")\n",
        "plt.title(\"Model Comparison: SVM vs MLP (Accuracy)\")\n",
        "plt.ylabel(\"Accuracy\")\n",
        "plt.show()"
      ],
      "metadata": {
        "id": "clm-0Sc7UdMb"
      },
      "execution_count": null,
      "outputs": []
    }
  ]
}