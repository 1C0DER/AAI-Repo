{
  "nbformat": 4,
  "nbformat_minor": 0,
  "metadata": {
    "colab": {
      "provenance": [],
      "authorship_tag": "ABX9TyNPqR8eDzwmrOYwxYJ9efEA",
      "include_colab_link": true
    },
    "kernelspec": {
      "name": "python3",
      "display_name": "Python 3"
    },
    "language_info": {
      "name": "python"
    }
  },
  "cells": [
    {
      "cell_type": "markdown",
      "metadata": {
        "id": "view-in-github",
        "colab_type": "text"
      },
      "source": [
        "<a href=\"https://colab.research.google.com/github/1C0DER/AAI-Repo/blob/master/Joan_AAI_Coursework.ipynb\" target=\"_parent\"><img src=\"https://colab.research.google.com/assets/colab-badge.svg\" alt=\"Open In Colab\"/></a>"
      ]
    },
    {
      "cell_type": "markdown",
      "source": [
        "#Section 1: Dataset description"
      ],
      "metadata": {
        "id": "QWvJKeQPQTGX"
      }
    },
    {
      "cell_type": "markdown",
      "source": [
        "The dataset used for this project contains tweets that are labeled with different sentiment categories which are:\n",
        "\n",
        "a. Positive\n",
        "\n",
        "b. Negative\n",
        "\n",
        "c. Neutral\n",
        "\n",
        "The tweets are collected from different social media platforms which reflect a wide range of users' opinions, making it a very diverse source for sentiment analysis. The primary task is to train a machine learning model that can predict the categories based on the data text.\n",
        "\n",
        "To prepare the dataset:\n",
        "\n",
        "1. The dataset will be loaded into a pandas Dataframe\n",
        "\n",
        "2. Then it will be explored to understand its structure, checking for missing values, class distributions and its general statistics\n",
        "\n",
        "3. Preprocessing: Containing steps like:\n",
        "\n",
        "a. Text Cleaning: Removal of unecessary punctuation, special characters and stopwords due to the casual and often cluttered nature of tweet language, which frequently includes slang, hashtags, and abbreviations\n",
        "\n",
        "b. Tokenization: Breaking down text into individual words\n",
        "\n",
        "c. Lowercasing: To maintain uniformity all text willl be converted to lowercase\n",
        "\n",
        "d. Vectorization: Transforming the text into numerical representations (e.g., TF-IDF) to enable machine learning algorithms to process it.\n",
        "\n",
        "By the end of this section, the dataset will be clean and ready for use in the subsequent stages of the model comparison.\n"
      ],
      "metadata": {
        "id": "DT5o7qrAQeyN"
      }
    },
    {
      "cell_type": "code",
      "execution_count": 1,
      "metadata": {
        "colab": {
          "base_uri": "https://localhost:8080/",
          "height": 73
        },
        "id": "6WO987I7mMAo",
        "outputId": "75ad3c64-0901-4be5-de75-8da59c0f0e53"
      },
      "outputs": [
        {
          "output_type": "display_data",
          "data": {
            "text/plain": [
              "<IPython.core.display.HTML object>"
            ],
            "text/html": [
              "\n",
              "     <input type=\"file\" id=\"files-effbbe9b-025d-423a-aa22-573d11cd0c92\" name=\"files[]\" multiple disabled\n",
              "        style=\"border:none\" />\n",
              "     <output id=\"result-effbbe9b-025d-423a-aa22-573d11cd0c92\">\n",
              "      Upload widget is only available when the cell has been executed in the\n",
              "      current browser session. Please rerun this cell to enable.\n",
              "      </output>\n",
              "      <script>// Copyright 2017 Google LLC\n",
              "//\n",
              "// Licensed under the Apache License, Version 2.0 (the \"License\");\n",
              "// you may not use this file except in compliance with the License.\n",
              "// You may obtain a copy of the License at\n",
              "//\n",
              "//      http://www.apache.org/licenses/LICENSE-2.0\n",
              "//\n",
              "// Unless required by applicable law or agreed to in writing, software\n",
              "// distributed under the License is distributed on an \"AS IS\" BASIS,\n",
              "// WITHOUT WARRANTIES OR CONDITIONS OF ANY KIND, either express or implied.\n",
              "// See the License for the specific language governing permissions and\n",
              "// limitations under the License.\n",
              "\n",
              "/**\n",
              " * @fileoverview Helpers for google.colab Python module.\n",
              " */\n",
              "(function(scope) {\n",
              "function span(text, styleAttributes = {}) {\n",
              "  const element = document.createElement('span');\n",
              "  element.textContent = text;\n",
              "  for (const key of Object.keys(styleAttributes)) {\n",
              "    element.style[key] = styleAttributes[key];\n",
              "  }\n",
              "  return element;\n",
              "}\n",
              "\n",
              "// Max number of bytes which will be uploaded at a time.\n",
              "const MAX_PAYLOAD_SIZE = 100 * 1024;\n",
              "\n",
              "function _uploadFiles(inputId, outputId) {\n",
              "  const steps = uploadFilesStep(inputId, outputId);\n",
              "  const outputElement = document.getElementById(outputId);\n",
              "  // Cache steps on the outputElement to make it available for the next call\n",
              "  // to uploadFilesContinue from Python.\n",
              "  outputElement.steps = steps;\n",
              "\n",
              "  return _uploadFilesContinue(outputId);\n",
              "}\n",
              "\n",
              "// This is roughly an async generator (not supported in the browser yet),\n",
              "// where there are multiple asynchronous steps and the Python side is going\n",
              "// to poll for completion of each step.\n",
              "// This uses a Promise to block the python side on completion of each step,\n",
              "// then passes the result of the previous step as the input to the next step.\n",
              "function _uploadFilesContinue(outputId) {\n",
              "  const outputElement = document.getElementById(outputId);\n",
              "  const steps = outputElement.steps;\n",
              "\n",
              "  const next = steps.next(outputElement.lastPromiseValue);\n",
              "  return Promise.resolve(next.value.promise).then((value) => {\n",
              "    // Cache the last promise value to make it available to the next\n",
              "    // step of the generator.\n",
              "    outputElement.lastPromiseValue = value;\n",
              "    return next.value.response;\n",
              "  });\n",
              "}\n",
              "\n",
              "/**\n",
              " * Generator function which is called between each async step of the upload\n",
              " * process.\n",
              " * @param {string} inputId Element ID of the input file picker element.\n",
              " * @param {string} outputId Element ID of the output display.\n",
              " * @return {!Iterable<!Object>} Iterable of next steps.\n",
              " */\n",
              "function* uploadFilesStep(inputId, outputId) {\n",
              "  const inputElement = document.getElementById(inputId);\n",
              "  inputElement.disabled = false;\n",
              "\n",
              "  const outputElement = document.getElementById(outputId);\n",
              "  outputElement.innerHTML = '';\n",
              "\n",
              "  const pickedPromise = new Promise((resolve) => {\n",
              "    inputElement.addEventListener('change', (e) => {\n",
              "      resolve(e.target.files);\n",
              "    });\n",
              "  });\n",
              "\n",
              "  const cancel = document.createElement('button');\n",
              "  inputElement.parentElement.appendChild(cancel);\n",
              "  cancel.textContent = 'Cancel upload';\n",
              "  const cancelPromise = new Promise((resolve) => {\n",
              "    cancel.onclick = () => {\n",
              "      resolve(null);\n",
              "    };\n",
              "  });\n",
              "\n",
              "  // Wait for the user to pick the files.\n",
              "  const files = yield {\n",
              "    promise: Promise.race([pickedPromise, cancelPromise]),\n",
              "    response: {\n",
              "      action: 'starting',\n",
              "    }\n",
              "  };\n",
              "\n",
              "  cancel.remove();\n",
              "\n",
              "  // Disable the input element since further picks are not allowed.\n",
              "  inputElement.disabled = true;\n",
              "\n",
              "  if (!files) {\n",
              "    return {\n",
              "      response: {\n",
              "        action: 'complete',\n",
              "      }\n",
              "    };\n",
              "  }\n",
              "\n",
              "  for (const file of files) {\n",
              "    const li = document.createElement('li');\n",
              "    li.append(span(file.name, {fontWeight: 'bold'}));\n",
              "    li.append(span(\n",
              "        `(${file.type || 'n/a'}) - ${file.size} bytes, ` +\n",
              "        `last modified: ${\n",
              "            file.lastModifiedDate ? file.lastModifiedDate.toLocaleDateString() :\n",
              "                                    'n/a'} - `));\n",
              "    const percent = span('0% done');\n",
              "    li.appendChild(percent);\n",
              "\n",
              "    outputElement.appendChild(li);\n",
              "\n",
              "    const fileDataPromise = new Promise((resolve) => {\n",
              "      const reader = new FileReader();\n",
              "      reader.onload = (e) => {\n",
              "        resolve(e.target.result);\n",
              "      };\n",
              "      reader.readAsArrayBuffer(file);\n",
              "    });\n",
              "    // Wait for the data to be ready.\n",
              "    let fileData = yield {\n",
              "      promise: fileDataPromise,\n",
              "      response: {\n",
              "        action: 'continue',\n",
              "      }\n",
              "    };\n",
              "\n",
              "    // Use a chunked sending to avoid message size limits. See b/62115660.\n",
              "    let position = 0;\n",
              "    do {\n",
              "      const length = Math.min(fileData.byteLength - position, MAX_PAYLOAD_SIZE);\n",
              "      const chunk = new Uint8Array(fileData, position, length);\n",
              "      position += length;\n",
              "\n",
              "      const base64 = btoa(String.fromCharCode.apply(null, chunk));\n",
              "      yield {\n",
              "        response: {\n",
              "          action: 'append',\n",
              "          file: file.name,\n",
              "          data: base64,\n",
              "        },\n",
              "      };\n",
              "\n",
              "      let percentDone = fileData.byteLength === 0 ?\n",
              "          100 :\n",
              "          Math.round((position / fileData.byteLength) * 100);\n",
              "      percent.textContent = `${percentDone}% done`;\n",
              "\n",
              "    } while (position < fileData.byteLength);\n",
              "  }\n",
              "\n",
              "  // All done.\n",
              "  yield {\n",
              "    response: {\n",
              "      action: 'complete',\n",
              "    }\n",
              "  };\n",
              "}\n",
              "\n",
              "scope.google = scope.google || {};\n",
              "scope.google.colab = scope.google.colab || {};\n",
              "scope.google.colab._files = {\n",
              "  _uploadFiles,\n",
              "  _uploadFilesContinue,\n",
              "};\n",
              "})(self);\n",
              "</script> "
            ]
          },
          "metadata": {}
        },
        {
          "output_type": "stream",
          "name": "stdout",
          "text": [
            "Saving train.csv to train.csv\n"
          ]
        }
      ],
      "source": [
        "import numpy as np #import numpy to enable array functionality\n",
        "import pandas as pd #import pandas to enable dataframe functionality\n",
        "import io #io we use to load the data after uploading (as colab uses dictionaries to store uploaded files)\n",
        "from google.colab import files #finally, we import the files package from google.colab framework to be able to upload files\n",
        "\n",
        "uploaded = files.upload()"
      ]
    },
    {
      "cell_type": "code",
      "source": [
        "tweet_file = io.BytesIO(uploaded['train.csv'])\n",
        "tweet_df = pd.read_csv(tweet_file)\n",
        "print(tweet_df) # This prints the loaded df into the console"
      ],
      "metadata": {
        "colab": {
          "base_uri": "https://localhost:8080/"
        },
        "id": "FYXeHFxyoCxY",
        "outputId": "50b96c8a-66e0-4f62-8aad-6be09dd724e0"
      },
      "execution_count": 2,
      "outputs": [
        {
          "output_type": "stream",
          "name": "stdout",
          "text": [
            "           textID                                               text  \\\n",
            "0      cb774db0d1                I`d have responded, if I were going   \n",
            "1      549e992a42      Sooo SAD I will miss you here in San Diego!!!   \n",
            "2      088c60f138                          my boss is bullying me...   \n",
            "3      9642c003ef                     what interview! leave me alone   \n",
            "4      358bd9e861   Sons of ****, why couldn`t they put them on t...   \n",
            "...           ...                                                ...   \n",
            "27476  4eac33d1c0   wish we could come see u on Denver  husband l...   \n",
            "27477  4f4c4fc327   I`ve wondered about rake to.  The client has ...   \n",
            "27478  f67aae2310   Yay good for both of you. Enjoy the break - y...   \n",
            "27479  ed167662a5                         But it was worth it  ****.   \n",
            "27480  6f7127d9d7     All this flirting going on - The ATG smiles...   \n",
            "\n",
            "                                           selected_text sentiment  \n",
            "0                    I`d have responded, if I were going   neutral  \n",
            "1                                               Sooo SAD  negative  \n",
            "2                                            bullying me  negative  \n",
            "3                                         leave me alone  negative  \n",
            "4                                          Sons of ****,  negative  \n",
            "...                                                  ...       ...  \n",
            "27476                                             d lost  negative  \n",
            "27477                                      , don`t force  negative  \n",
            "27478                          Yay good for both of you.  positive  \n",
            "27479                         But it was worth it  ****.  positive  \n",
            "27480  All this flirting going on - The ATG smiles. Y...   neutral  \n",
            "\n",
            "[27481 rows x 4 columns]\n"
          ]
        }
      ]
    },
    {
      "cell_type": "code",
      "source": [
        "tweet_df.info() #checking the general info of the dataframe"
      ],
      "metadata": {
        "colab": {
          "base_uri": "https://localhost:8080/"
        },
        "id": "lMFl80t8n6ww",
        "outputId": "dd7488b5-af85-4325-be3a-9e1803d9d1e5"
      },
      "execution_count": 3,
      "outputs": [
        {
          "output_type": "stream",
          "name": "stdout",
          "text": [
            "<class 'pandas.core.frame.DataFrame'>\n",
            "RangeIndex: 27481 entries, 0 to 27480\n",
            "Data columns (total 4 columns):\n",
            " #   Column         Non-Null Count  Dtype \n",
            "---  ------         --------------  ----- \n",
            " 0   textID         27481 non-null  object\n",
            " 1   text           27480 non-null  object\n",
            " 2   selected_text  27480 non-null  object\n",
            " 3   sentiment      27481 non-null  object\n",
            "dtypes: object(4)\n",
            "memory usage: 858.9+ KB\n"
          ]
        }
      ]
    },
    {
      "cell_type": "code",
      "source": [
        "# Check for missing values in each column\n",
        "tweet_df.isnull().sum()"
      ],
      "metadata": {
        "id": "IE8WVHsGn_jc",
        "colab": {
          "base_uri": "https://localhost:8080/",
          "height": 209
        },
        "outputId": "12cd8066-06e7-48b4-ab78-b27266d4edc1"
      },
      "execution_count": 4,
      "outputs": [
        {
          "output_type": "execute_result",
          "data": {
            "text/plain": [
              "textID           0\n",
              "text             1\n",
              "selected_text    1\n",
              "sentiment        0\n",
              "dtype: int64"
            ],
            "text/html": [
              "<div>\n",
              "<style scoped>\n",
              "    .dataframe tbody tr th:only-of-type {\n",
              "        vertical-align: middle;\n",
              "    }\n",
              "\n",
              "    .dataframe tbody tr th {\n",
              "        vertical-align: top;\n",
              "    }\n",
              "\n",
              "    .dataframe thead th {\n",
              "        text-align: right;\n",
              "    }\n",
              "</style>\n",
              "<table border=\"1\" class=\"dataframe\">\n",
              "  <thead>\n",
              "    <tr style=\"text-align: right;\">\n",
              "      <th></th>\n",
              "      <th>0</th>\n",
              "    </tr>\n",
              "  </thead>\n",
              "  <tbody>\n",
              "    <tr>\n",
              "      <th>textID</th>\n",
              "      <td>0</td>\n",
              "    </tr>\n",
              "    <tr>\n",
              "      <th>text</th>\n",
              "      <td>1</td>\n",
              "    </tr>\n",
              "    <tr>\n",
              "      <th>selected_text</th>\n",
              "      <td>1</td>\n",
              "    </tr>\n",
              "    <tr>\n",
              "      <th>sentiment</th>\n",
              "      <td>0</td>\n",
              "    </tr>\n",
              "  </tbody>\n",
              "</table>\n",
              "</div><br><label><b>dtype:</b> int64</label>"
            ]
          },
          "metadata": {},
          "execution_count": 4
        }
      ]
    },
    {
      "cell_type": "code",
      "source": [
        "# Drop rows with any missing values\n",
        "tweet_df.dropna(inplace=True)"
      ],
      "metadata": {
        "id": "SdHWRMN12_oG"
      },
      "execution_count": 5,
      "outputs": []
    },
    {
      "cell_type": "code",
      "source": [
        "# Check for missing values in each column\n",
        "tweet_df.isnull().sum()"
      ],
      "metadata": {
        "colab": {
          "base_uri": "https://localhost:8080/",
          "height": 209
        },
        "id": "y-_18FqB3Jw0",
        "outputId": "b4e8729e-184c-43d0-af8d-1573deb64692"
      },
      "execution_count": 6,
      "outputs": [
        {
          "output_type": "execute_result",
          "data": {
            "text/plain": [
              "textID           0\n",
              "text             0\n",
              "selected_text    0\n",
              "sentiment        0\n",
              "dtype: int64"
            ],
            "text/html": [
              "<div>\n",
              "<style scoped>\n",
              "    .dataframe tbody tr th:only-of-type {\n",
              "        vertical-align: middle;\n",
              "    }\n",
              "\n",
              "    .dataframe tbody tr th {\n",
              "        vertical-align: top;\n",
              "    }\n",
              "\n",
              "    .dataframe thead th {\n",
              "        text-align: right;\n",
              "    }\n",
              "</style>\n",
              "<table border=\"1\" class=\"dataframe\">\n",
              "  <thead>\n",
              "    <tr style=\"text-align: right;\">\n",
              "      <th></th>\n",
              "      <th>0</th>\n",
              "    </tr>\n",
              "  </thead>\n",
              "  <tbody>\n",
              "    <tr>\n",
              "      <th>textID</th>\n",
              "      <td>0</td>\n",
              "    </tr>\n",
              "    <tr>\n",
              "      <th>text</th>\n",
              "      <td>0</td>\n",
              "    </tr>\n",
              "    <tr>\n",
              "      <th>selected_text</th>\n",
              "      <td>0</td>\n",
              "    </tr>\n",
              "    <tr>\n",
              "      <th>sentiment</th>\n",
              "      <td>0</td>\n",
              "    </tr>\n",
              "  </tbody>\n",
              "</table>\n",
              "</div><br><label><b>dtype:</b> int64</label>"
            ]
          },
          "metadata": {},
          "execution_count": 6
        }
      ]
    },
    {
      "cell_type": "code",
      "source": [
        "import seaborn as sns # Import the seaborn library and alias it as 'sns'\n",
        "sns.countplot(tweet_df, x='sentiment') # Use tweet_df instead of train_df"
      ],
      "metadata": {
        "colab": {
          "base_uri": "https://localhost:8080/",
          "height": 467
        },
        "id": "J_2YYr1nY5Ra",
        "outputId": "746f879b-f4c0-4135-86e8-56cfaf480cad"
      },
      "execution_count": 7,
      "outputs": [
        {
          "output_type": "execute_result",
          "data": {
            "text/plain": [
              "<Axes: xlabel='sentiment', ylabel='count'>"
            ]
          },
          "metadata": {},
          "execution_count": 7
        },
        {
          "output_type": "display_data",
          "data": {
            "text/plain": [
              "<Figure size 640x480 with 1 Axes>"
            ],
            "image/png": "[encoded data removed]"
          },
          "metadata": {}
        }
      ]
    },
    {
      "cell_type": "code",
      "source": [
        "import nltk #import the natural language toolkit\n",
        "import re\n",
        "\n",
        "nltk.download('punkt') #download the package in nltk which supports tokenization\n",
        "nltk.download('stopwords') #download the nltk package for stopwords\n",
        "\n",
        "from sklearn.feature_extraction.text import TfidfVectorizer # Import TfidfVectorizer for converting text into TF-IDF features\n",
        "from nltk.corpus import stopwords #import the package from the corpus\n",
        "from nltk.stem import PorterStemmer #import the snowball stemmer (also known as Porter2)"
      ],
      "metadata": {
        "colab": {
          "base_uri": "https://localhost:8080/"
        },
        "id": "AM7dhyGL7AwJ",
        "outputId": "900fb910-dc63-4338-ab17-30e7e7fc2f9b"
      },
      "execution_count": 8,
      "outputs": [
        {
          "output_type": "stream",
          "name": "stderr",
          "text": [
            "[nltk_data] Downloading package punkt to /root/nltk_data...\n",
            "[nltk_data]   Unzipping tokenizers/punkt.zip.\n",
            "[nltk_data] Downloading package stopwords to /root/nltk_data...\n",
            "[nltk_data]   Unzipping corpora/stopwords.zip.\n"
          ]
        }
      ]
    },
    {
      "cell_type": "code",
      "source": [
        "def clean_text(text):\n",
        "    # Remove URLs, mentions, and hashtags\n",
        "    text = re.sub(r'http\\S+|www\\S+|@\\S+|#\\S+', '', text)\n",
        "    # Remove non-alphabetic characters and convert to lowercase\n",
        "    text = re.sub(r'[^a-zA-Z\\s]', '', text)\n",
        "    text = text.lower()\n",
        "    return text"
      ],
      "metadata": {
        "id": "y-AtDClz_5sC"
      },
      "execution_count": 20,
      "outputs": []
    },
    {
      "cell_type": "code",
      "source": [
        "# Apply the cleaning function to the 'text' and 'selected_text' columns\n",
        "tweet_df['text_cleaned'] = tweet_df['text'].apply(clean_text)\n",
        "tweet_df['selected_text_cleaned'] = tweet_df['selected_text'].apply(clean_text)"
      ],
      "metadata": {
        "id": "H1Yk7VWHaYTz"
      },
      "execution_count": 10,
      "outputs": []
    },
    {
      "cell_type": "code",
      "source": [
        "from collections import Counter # Import the Counter class from collections\n",
        "\n",
        "# Initialize the Counter object with the tokenized text\n",
        "ct = Counter(\" \".join(tweet_df[\"text_cleaned\"]).split()) # Assuming 'text_cleaned' column contains the cleaned text\n",
        "\n",
        "# Now you can use ct to get the most common words\n",
        "dict(ct.most_common(100))"
      ],
      "metadata": {
        "colab": {
          "base_uri": "https://localhost:8080/"
        },
        "id": "ZzsBavtOayop",
        "outputId": "b28a90d2-df7d-4689-b30b-0a6f19de5141"
      },
      "execution_count": 12,
      "outputs": [
        {
          "output_type": "execute_result",
          "data": {
            "text/plain": [
              "{'i': 13179,\n",
              " 'to': 10015,\n",
              " 'the': 8985,\n",
              " 'a': 6714,\n",
              " 'my': 5512,\n",
              " 'and': 5070,\n",
              " 'you': 4813,\n",
              " 'it': 4061,\n",
              " 'is': 3973,\n",
              " 'in': 3784,\n",
              " 'for': 3652,\n",
              " 'of': 3145,\n",
              " 'im': 3055,\n",
              " 'on': 2852,\n",
              " 'me': 2812,\n",
              " 'have': 2594,\n",
              " 'so': 2575,\n",
              " 'that': 2568,\n",
              " 'but': 2304,\n",
              " 'just': 2245,\n",
              " 'with': 2094,\n",
              " 'day': 2086,\n",
              " 'its': 2018,\n",
              " 'be': 2011,\n",
              " 'at': 1888,\n",
              " 'not': 1837,\n",
              " 'was': 1821,\n",
              " 'all': 1612,\n",
              " 'this': 1550,\n",
              " 'good': 1549,\n",
              " 'now': 1517,\n",
              " 'out': 1494,\n",
              " 'up': 1465,\n",
              " 'get': 1427,\n",
              " 'are': 1365,\n",
              " 'no': 1350,\n",
              " 'like': 1346,\n",
              " 'go': 1267,\n",
              " 'dont': 1202,\n",
              " 'your': 1167,\n",
              " 'do': 1143,\n",
              " 'love': 1122,\n",
              " 'work': 1112,\n",
              " 'too': 1107,\n",
              " 'today': 1097,\n",
              " 'going': 1096,\n",
              " 'got': 1074,\n",
              " 'cant': 1030,\n",
              " 'from': 989,\n",
              " 'happy': 976,\n",
              " 'one': 971,\n",
              " 'lol': 951,\n",
              " 'am': 945,\n",
              " 'time': 943,\n",
              " 'know': 932,\n",
              " 'u': 931,\n",
              " 'what': 915,\n",
              " 'really': 908,\n",
              " 'will': 895,\n",
              " 'back': 891,\n",
              " 'about': 856,\n",
              " 'had': 836,\n",
              " 'we': 834,\n",
              " 'there': 824,\n",
              " 'see': 797,\n",
              " 'can': 796,\n",
              " 'some': 789,\n",
              " 'if': 773,\n",
              " 'well': 744,\n",
              " 'night': 744,\n",
              " 'new': 740,\n",
              " 'mothers': 719,\n",
              " 'home': 718,\n",
              " 'want': 714,\n",
              " 'think': 705,\n",
              " 'as': 696,\n",
              " 'more': 680,\n",
              " 'still': 679,\n",
              " 'when': 676,\n",
              " 'how': 675,\n",
              " 'oh': 664,\n",
              " 'much': 659,\n",
              " 'thanks': 658,\n",
              " 'they': 656,\n",
              " 'off': 654,\n",
              " 'here': 626,\n",
              " 'miss': 614,\n",
              " 'an': 612,\n",
              " 'great': 611,\n",
              " 'has': 596,\n",
              " 'hope': 589,\n",
              " 'last': 581,\n",
              " 'need': 570,\n",
              " 'morning': 557,\n",
              " 'haha': 555,\n",
              " 'thats': 554,\n",
              " 'her': 544,\n",
              " 'been': 539,\n",
              " 'ill': 535,\n",
              " 'fun': 527}"
            ]
          },
          "metadata": {},
          "execution_count": 12
        }
      ]
    },
    {
      "cell_type": "code",
      "source": [
        "# Pre-processing function: remove custom stopwords\n",
        "def remove_stopwords(text):\n",
        "    tokens = text.split()\n",
        "    cleaned_tokens = [word for word in tokens if word not in custom_stopwords]\n",
        "    return \" \".join(cleaned_tokens)"
      ],
      "metadata": {
        "id": "TalXSHqxeJs3"
      },
      "execution_count": 13,
      "outputs": []
    },
    {
      "cell_type": "code",
      "source": [
        "import matplotlib.pyplot as plt # Import the pyplot module from matplotlib and alias it as 'plt'\n",
        "\n",
        "#Distribution of 50 most common tokens\n",
        "\n",
        "plt.figure(figsize=(10,5))\n",
        "\n",
        "plt.bar(x=dict(ct.most_common(50)).keys(),height=dict(ct.most_common(50)).values())\n",
        "\n",
        "plt.xticks(rotation=45)\n",
        "\n",
        "plt.xlabel('most common words in tweets')\n",
        "\n",
        "plt.show()"
      ],
      "metadata": {
        "colab": {
          "base_uri": "https://localhost:8080/",
          "height": 491
        },
        "id": "wF_Y6vrYbJTh",
        "outputId": "5be2f2dc-2cc8-4614-8973-c37a439c7b4c"
      },
      "execution_count": 14,
      "outputs": [
        {
          "output_type": "display_data",
          "data": {
            "text/plain": [
              "<Figure size 1000x500 with 1 Axes>"
            ],
            "image/png": "[encoded data removed]"
          },
          "metadata": {}
        }
      ]
    },
    {
      "cell_type": "code",
      "source": [
        "# Custom stopwords list\n",
        "custom_stopwords = set([\n",
        "    \"i\", \"me\", \"my\", \"myself\", \"we\", \"our\", \"ours\", \"ourselves\", \"you\", \"your\",\n",
        "    \"yours\", \"yourself\", \"yourselves\", \"he\", \"him\", \"his\", \"himself\", \"she\",\n",
        "    \"her\", \"hers\", \"herself\", \"it\", \"its\", \"itself\", \"they\", \"them\", \"their\",\n",
        "    \"theirs\", \"themselves\", \"what\", \"which\", \"who\", \"whom\", \"this\", \"that\",\n",
        "    \"these\", \"those\", \"am\", \"is\", \"are\", \"was\", \"were\", \"be\", \"been\", \"being\",\n",
        "    \"have\", \"has\", \"had\", \"having\", \"do\", \"does\", \"did\", \"doing\", \"a\", \"an\",\n",
        "    \"the\", \"and\", \"but\", \"if\", \"or\", \"because\", \"as\", \"until\", \"while\", \"of\",\n",
        "    \"at\", \"by\", \"for\", \"with\", \"about\", \"against\", \"between\", \"into\", \"through\",\n",
        "    \"during\", \"before\", \"after\", \"above\", \"below\", \"to\", \"from\", \"up\", \"down\",\n",
        "    \"in\", \"out\", \"on\", \"off\", \"over\", \"under\", \"again\", \"further\", \"then\",\n",
        "    \"once\", \"here\", \"there\", \"when\", \"where\", \"why\", \"how\", \"all\", \"any\",\n",
        "    \"both\", \"each\", \"few\", \"more\", \"most\", \"other\", \"some\", \"such\", \"no\",\n",
        "    \"nor\", \"not\", \"only\", \"own\", \"same\", \"so\", \"than\", \"too\", \"very\", \"s\",\n",
        "    \"t\", \"can\", \"will\", \"just\", \"don\", \"should\", \"now\", \"d\", \"ll\", \"m\", \"o\",\n",
        "    \"re\", \"ve\", \"y\", \"ain\", \"aren\", \"couldn\", \"didn\", \"doesn\", \"hadn\",\n",
        "    \"hasn\", \"haven\", \"isn\", \"ma\", \"mightn\", \"mustn\", \"needn\", \"shan\",\n",
        "    \"shouldn\", \"wasn\", \"weren\", \"won\", \"wouldn\"\n",
        "])"
      ],
      "metadata": {
        "id": "puGzwBueYnNf"
      },
      "execution_count": 15,
      "outputs": []
    },
    {
      "cell_type": "code",
      "source": [
        "# Apply stopword removal\n",
        "tweet_df['text_cleaned_no_stopwords'] = tweet_df['text_cleaned'].apply(remove_stopwords)\n",
        "tweet_df['selected_text_cleaned_no_stopwords'] = tweet_df['selected_text_cleaned'].apply(remove_stopwords)\n",
        "\n",
        "# Initialize the TF-IDF Vectorizer\n",
        "vectorizer = TfidfVectorizer(stop_words='english')  # Using English stopwords from sklearn\n",
        "\n",
        "# Vectorize the cleaned 'text' column\n",
        "X_tfidf = vectorizer.fit_transform(tweet_df['text_cleaned_no_stopwords'])\n",
        "\n",
        "# Display the cleaned data and the shape of the TF-IDF matrix\n",
        "print(\"Sample of cleaned data:\")\n",
        "print(tweet_df[['text', 'text_cleaned', 'selected_text', 'selected_text_cleaned_no_stopwords']].head())\n",
        "\n",
        "print(f\"TF-IDF matrix shape: {X_tfidf.shape}\")"
      ],
      "metadata": {
        "colab": {
          "base_uri": "https://localhost:8080/"
        },
        "id": "y4WcJpMpFdpn",
        "outputId": "23930245-f77a-4dff-b412-e38cfd6b8e35"
      },
      "execution_count": 16,
      "outputs": [
        {
          "output_type": "stream",
          "name": "stdout",
          "text": [
            "Sample of cleaned data:\n",
            "                                                text  \\\n",
            "0                I`d have responded, if I were going   \n",
            "1      Sooo SAD I will miss you here in San Diego!!!   \n",
            "2                          my boss is bullying me...   \n",
            "3                     what interview! leave me alone   \n",
            "4   Sons of ****, why couldn`t they put them on t...   \n",
            "\n",
            "                                        text_cleaned  \\\n",
            "0                  id have responded if i were going   \n",
            "1         sooo sad i will miss you here in san diego   \n",
            "2                             my boss is bullying me   \n",
            "3                      what interview leave me alone   \n",
            "4   sons of  why couldnt they put them on the rel...   \n",
            "\n",
            "                         selected_text selected_text_cleaned_no_stopwords  \n",
            "0  I`d have responded, if I were going                 id responded going  \n",
            "1                             Sooo SAD                           sooo sad  \n",
            "2                          bullying me                           bullying  \n",
            "3                       leave me alone                        leave alone  \n",
            "4                        Sons of ****,                               sons  \n",
            "TF-IDF matrix shape: (27480, 27580)\n"
          ]
        }
      ]
    },
    {
      "cell_type": "code",
      "source": [
        "tweet_df.head(5)"
      ],
      "metadata": {
        "colab": {
          "base_uri": "https://localhost:8080/",
          "height": 258
        },
        "id": "il8R7KocF5It",
        "outputId": "bf0632fb-7338-4f80-8fcb-2fb0a24d2f8e"
      },
      "execution_count": 17,
      "outputs": [
        {
          "output_type": "execute_result",
          "data": {
            "text/plain": [
              "       textID                                               text  \\\n",
              "0  cb774db0d1                I`d have responded, if I were going   \n",
              "1  549e992a42      Sooo SAD I will miss you here in San Diego!!!   \n",
              "2  088c60f138                          my boss is bullying me...   \n",
              "3  9642c003ef                     what interview! leave me alone   \n",
              "4  358bd9e861   Sons of ****, why couldn`t they put them on t...   \n",
              "\n",
              "                         selected_text sentiment  \\\n",
              "0  I`d have responded, if I were going   neutral   \n",
              "1                             Sooo SAD  negative   \n",
              "2                          bullying me  negative   \n",
              "3                       leave me alone  negative   \n",
              "4                        Sons of ****,  negative   \n",
              "\n",
              "                                        text_cleaned  \\\n",
              "0                  id have responded if i were going   \n",
              "1         sooo sad i will miss you here in san diego   \n",
              "2                             my boss is bullying me   \n",
              "3                      what interview leave me alone   \n",
              "4   sons of  why couldnt they put them on the rel...   \n",
              "\n",
              "               selected_text_cleaned  \\\n",
              "0  id have responded if i were going   \n",
              "1                           sooo sad   \n",
              "2                        bullying me   \n",
              "3                     leave me alone   \n",
              "4                           sons of    \n",
              "\n",
              "                  text_cleaned_no_stopwords selected_text_cleaned_no_stopwords  \n",
              "0                        id responded going                 id responded going  \n",
              "1                   sooo sad miss san diego                           sooo sad  \n",
              "2                             boss bullying                           bullying  \n",
              "3                     interview leave alone                        leave alone  \n",
              "4  sons couldnt put releases already bought                               sons  "
            ],
            "text/html": [
              "\n",
              "  <div id=\"df-aa211f11-d72d-47d0-b673-c69eb94f80fe\" class=\"colab-df-container\">\n",
              "    <div>\n",
              "<style scoped>\n",
              "    .dataframe tbody tr th:only-of-type {\n",
              "        vertical-align: middle;\n",
              "    }\n",
              "\n",
              "    .dataframe tbody tr th {\n",
              "        vertical-align: top;\n",
              "    }\n",
              "\n",
              "    .dataframe thead th {\n",
              "        text-align: right;\n",
              "    }\n",
              "</style>\n",
              "<table border=\"1\" class=\"dataframe\">\n",
              "  <thead>\n",
              "    <tr style=\"text-align: right;\">\n",
              "      <th></th>\n",
              "      <th>textID</th>\n",
              "      <th>text</th>\n",
              "      <th>selected_text</th>\n",
              "      <th>sentiment</th>\n",
              "      <th>text_cleaned</th>\n",
              "      <th>selected_text_cleaned</th>\n",
              "      <th>text_cleaned_no_stopwords</th>\n",
              "      <th>selected_text_cleaned_no_stopwords</th>\n",
              "    </tr>\n",
              "  </thead>\n",
              "  <tbody>\n",
              "    <tr>\n",
              "      <th>0</th>\n",
              "      <td>cb774db0d1</td>\n",
              "      <td>I`d have responded, if I were going</td>\n",
              "      <td>I`d have responded, if I were going</td>\n",
              "      <td>neutral</td>\n",
              "      <td>id have responded if i were going</td>\n",
              "      <td>id have responded if i were going</td>\n",
              "      <td>id responded going</td>\n",
              "      <td>id responded going</td>\n",
              "    </tr>\n",
              "    <tr>\n",
              "      <th>1</th>\n",
              "      <td>549e992a42</td>\n",
              "      <td>Sooo SAD I will miss you here in San Diego!!!</td>\n",
              "      <td>Sooo SAD</td>\n",
              "      <td>negative</td>\n",
              "      <td>sooo sad i will miss you here in san diego</td>\n",
              "      <td>sooo sad</td>\n",
              "      <td>sooo sad miss san diego</td>\n",
              "      <td>sooo sad</td>\n",
              "    </tr>\n",
              "    <tr>\n",
              "      <th>2</th>\n",
              "      <td>088c60f138</td>\n",
              "      <td>my boss is bullying me...</td>\n",
              "      <td>bullying me</td>\n",
              "      <td>negative</td>\n",
              "      <td>my boss is bullying me</td>\n",
              "      <td>bullying me</td>\n",
              "      <td>boss bullying</td>\n",
              "      <td>bullying</td>\n",
              "    </tr>\n",
              "    <tr>\n",
              "      <th>3</th>\n",
              "      <td>9642c003ef</td>\n",
              "      <td>what interview! leave me alone</td>\n",
              "      <td>leave me alone</td>\n",
              "      <td>negative</td>\n",
              "      <td>what interview leave me alone</td>\n",
              "      <td>leave me alone</td>\n",
              "      <td>interview leave alone</td>\n",
              "      <td>leave alone</td>\n",
              "    </tr>\n",
              "    <tr>\n",
              "      <th>4</th>\n",
              "      <td>358bd9e861</td>\n",
              "      <td>Sons of ****, why couldn`t they put them on t...</td>\n",
              "      <td>Sons of ****,</td>\n",
              "      <td>negative</td>\n",
              "      <td>sons of  why couldnt they put them on the rel...</td>\n",
              "      <td>sons of</td>\n",
              "      <td>sons couldnt put releases already bought</td>\n",
              "      <td>sons</td>\n",
              "    </tr>\n",
              "  </tbody>\n",
              "</table>\n",
              "</div>\n",
              "    <div class=\"colab-df-buttons\">\n",
              "\n",
              "  <div class=\"colab-df-container\">\n",
              "    <button class=\"colab-df-convert\" onclick=\"convertToInteractive('df-aa211f11-d72d-47d0-b673-c69eb94f80fe')\"\n",
              "            title=\"Convert this dataframe to an interactive table.\"\n",
              "            style=\"display:none;\">\n",
              "\n",
              "  <svg xmlns=\"http://www.w3.org/2000/svg\" height=\"24px\" viewBox=\"0 -960 960 960\">\n",
              "    <path d=\"M120-120v-720h720v720H120Zm60-500h600v-160H180v160Zm220 220h160v-160H400v160Zm0 220h160v-160H400v160ZM180-400h160v-160H180v160Zm440 0h160v-160H620v160ZM180-180h160v-160H180v160Zm440 0h160v-160H620v160Z\"/>\n",
              "  </svg>\n",
              "    </button>\n",
              "\n",
              "  <style>\n",
              "    .colab-df-container {\n",
              "      display:flex;\n",
              "      gap: 12px;\n",
              "    }\n",
              "\n",
              "    .colab-df-convert {\n",
              "      background-color: #E8F0FE;\n",
              "      border: none;\n",
              "      border-radius: 50%;\n",
              "      cursor: pointer;\n",
              "      display: none;\n",
              "      fill: #1967D2;\n",
              "      height: 32px;\n",
              "      padding: 0 0 0 0;\n",
              "      width: 32px;\n",
              "    }\n",
              "\n",
              "    .colab-df-convert:hover {\n",
              "      background-color: #E2EBFA;\n",
              "      box-shadow: 0px 1px 2px rgba(60, 64, 67, 0.3), 0px 1px 3px 1px rgba(60, 64, 67, 0.15);\n",
              "      fill: #174EA6;\n",
              "    }\n",
              "\n",
              "    .colab-df-buttons div {\n",
              "      margin-bottom: 4px;\n",
              "    }\n",
              "\n",
              "    [theme=dark] .colab-df-convert {\n",
              "      background-color: #3B4455;\n",
              "      fill: #D2E3FC;\n",
              "    }\n",
              "\n",
              "    [theme=dark] .colab-df-convert:hover {\n",
              "      background-color: #434B5C;\n",
              "      box-shadow: 0px 1px 3px 1px rgba(0, 0, 0, 0.15);\n",
              "      filter: drop-shadow(0px 1px 2px rgba(0, 0, 0, 0.3));\n",
              "      fill: #FFFFFF;\n",
              "    }\n",
              "  </style>\n",
              "\n",
              "    <script>\n",
              "      const buttonEl =\n",
              "        document.querySelector('#df-aa211f11-d72d-47d0-b673-c69eb94f80fe button.colab-df-convert');\n",
              "      buttonEl.style.display =\n",
              "        google.colab.kernel.accessAllowed ? 'block' : 'none';\n",
              "\n",
              "      async function convertToInteractive(key) {\n",
              "        const element = document.querySelector('#df-aa211f11-d72d-47d0-b673-c69eb94f80fe');\n",
              "        const dataTable =\n",
              "          await google.colab.kernel.invokeFunction('convertToInteractive',\n",
              "                                                    [key], {});\n",
              "        if (!dataTable) return;\n",
              "\n",
              "        const docLinkHtml = 'Like what you see? Visit the ' +\n",
              "          '<a target=\"_blank\" href=https://colab.research.google.com/notebooks/data_table.ipynb>data table notebook</a>'\n",
              "          + ' to learn more about interactive tables.';\n",
              "        element.innerHTML = '';\n",
              "        dataTable['output_type'] = 'display_data';\n",
              "        await google.colab.output.renderOutput(dataTable, element);\n",
              "        const docLink = document.createElement('div');\n",
              "        docLink.innerHTML = docLinkHtml;\n",
              "        element.appendChild(docLink);\n",
              "      }\n",
              "    </script>\n",
              "  </div>\n",
              "\n",
              "\n",
              "<div id=\"df-bfa9b053-0a52-491e-8ca5-d31b67c51f67\">\n",
              "  <button class=\"colab-df-quickchart\" onclick=\"quickchart('df-bfa9b053-0a52-491e-8ca5-d31b67c51f67')\"\n",
              "            title=\"Suggest charts\"\n",
              "            style=\"display:none;\">\n",
              "\n",
              "<svg xmlns=\"http://www.w3.org/2000/svg\" height=\"24px\"viewBox=\"0 0 24 24\"\n",
              "     width=\"24px\">\n",
              "    <g>\n",
              "        <path d=\"M19 3H5c-1.1 0-2 .9-2 2v14c0 1.1.9 2 2 2h14c1.1 0 2-.9 2-2V5c0-1.1-.9-2-2-2zM9 17H7v-7h2v7zm4 0h-2V7h2v10zm4 0h-2v-4h2v4z\"/>\n",
              "    </g>\n",
              "</svg>\n",
              "  </button>\n",
              "\n",
              "<style>\n",
              "  .colab-df-quickchart {\n",
              "      --bg-color: #E8F0FE;\n",
              "      --fill-color: #1967D2;\n",
              "      --hover-bg-color: #E2EBFA;\n",
              "      --hover-fill-color: #174EA6;\n",
              "      --disabled-fill-color: #AAA;\n",
              "      --disabled-bg-color: #DDD;\n",
              "  }\n",
              "\n",
              "  [theme=dark] .colab-df-quickchart {\n",
              "      --bg-color: #3B4455;\n",
              "      --fill-color: #D2E3FC;\n",
              "      --hover-bg-color: #434B5C;\n",
              "      --hover-fill-color: #FFFFFF;\n",
              "      --disabled-bg-color: #3B4455;\n",
              "      --disabled-fill-color: #666;\n",
              "  }\n",
              "\n",
              "  .colab-df-quickchart {\n",
              "    background-color: var(--bg-color);\n",
              "    border: none;\n",
              "    border-radius: 50%;\n",
              "    cursor: pointer;\n",
              "    display: none;\n",
              "    fill: var(--fill-color);\n",
              "    height: 32px;\n",
              "    padding: 0;\n",
              "    width: 32px;\n",
              "  }\n",
              "\n",
              "  .colab-df-quickchart:hover {\n",
              "    background-color: var(--hover-bg-color);\n",
              "    box-shadow: 0 1px 2px rgba(60, 64, 67, 0.3), 0 1px 3px 1px rgba(60, 64, 67, 0.15);\n",
              "    fill: var(--button-hover-fill-color);\n",
              "  }\n",
              "\n",
              "  .colab-df-quickchart-complete:disabled,\n",
              "  .colab-df-quickchart-complete:disabled:hover {\n",
              "    background-color: var(--disabled-bg-color);\n",
              "    fill: var(--disabled-fill-color);\n",
              "    box-shadow: none;\n",
              "  }\n",
              "\n",
              "  .colab-df-spinner {\n",
              "    border: 2px solid var(--fill-color);\n",
              "    border-color: transparent;\n",
              "    border-bottom-color: var(--fill-color);\n",
              "    animation:\n",
              "      spin 1s steps(1) infinite;\n",
              "  }\n",
              "\n",
              "  @keyframes spin {\n",
              "    0% {\n",
              "      border-color: transparent;\n",
              "      border-bottom-color: var(--fill-color);\n",
              "      border-left-color: var(--fill-color);\n",
              "    }\n",
              "    20% {\n",
              "      border-color: transparent;\n",
              "      border-left-color: var(--fill-color);\n",
              "      border-top-color: var(--fill-color);\n",
              "    }\n",
              "    30% {\n",
              "      border-color: transparent;\n",
              "      border-left-color: var(--fill-color);\n",
              "      border-top-color: var(--fill-color);\n",
              "      border-right-color: var(--fill-color);\n",
              "    }\n",
              "    40% {\n",
              "      border-color: transparent;\n",
              "      border-right-color: var(--fill-color);\n",
              "      border-top-color: var(--fill-color);\n",
              "    }\n",
              "    60% {\n",
              "      border-color: transparent;\n",
              "      border-right-color: var(--fill-color);\n",
              "    }\n",
              "    80% {\n",
              "      border-color: transparent;\n",
              "      border-right-color: var(--fill-color);\n",
              "      border-bottom-color: var(--fill-color);\n",
              "    }\n",
              "    90% {\n",
              "      border-color: transparent;\n",
              "      border-bottom-color: var(--fill-color);\n",
              "    }\n",
              "  }\n",
              "</style>\n",
              "\n",
              "  <script>\n",
              "    async function quickchart(key) {\n",
              "      const quickchartButtonEl =\n",
              "        document.querySelector('#' + key + ' button');\n",
              "      quickchartButtonEl.disabled = true;  // To prevent multiple clicks.\n",
              "      quickchartButtonEl.classList.add('colab-df-spinner');\n",
              "      try {\n",
              "        const charts = await google.colab.kernel.invokeFunction(\n",
              "            'suggestCharts', [key], {});\n",
              "      } catch (error) {\n",
              "        console.error('Error during call to suggestCharts:', error);\n",
              "      }\n",
              "      quickchartButtonEl.classList.remove('colab-df-spinner');\n",
              "      quickchartButtonEl.classList.add('colab-df-quickchart-complete');\n",
              "    }\n",
              "    (() => {\n",
              "      let quickchartButtonEl =\n",
              "        document.querySelector('#df-bfa9b053-0a52-491e-8ca5-d31b67c51f67 button');\n",
              "      quickchartButtonEl.style.display =\n",
              "        google.colab.kernel.accessAllowed ? 'block' : 'none';\n",
              "    })();\n",
              "  </script>\n",
              "</div>\n",
              "\n",
              "    </div>\n",
              "  </div>\n"
            ],
            "application/vnd.google.colaboratory.intrinsic+json": {
              "type": "dataframe",
              "variable_name": "tweet_df",
              "summary": "{\n  \"name\": \"tweet_df\",\n  \"rows\": 27480,\n  \"fields\": [\n    {\n      \"column\": \"textID\",\n      \"properties\": {\n        \"dtype\": \"string\",\n        \"num_unique_values\": 27480,\n        \"samples\": [\n          \"6c5505a37c\",\n          \"126b1e6a22\",\n          \"5bc4e623c4\"\n        ],\n        \"semantic_type\": \"\",\n        \"description\": \"\"\n      }\n    },\n    {\n      \"column\": \"text\",\n      \"properties\": {\n        \"dtype\": \"string\",\n        \"num_unique_values\": 27480,\n        \"samples\": [\n          \" Enjoy! Family trumps everything\",\n          \" --of them kinda turns me off of it all.  And then I buy more of them and dig a deeper hole, etc. ;;\",\n          \"Clive it`s my birthday pat me  http://apps.facebook.com/dogbook/profile/view/6386106\"\n        ],\n        \"semantic_type\": \"\",\n        \"description\": \"\"\n      }\n    },\n    {\n      \"column\": \"selected_text\",\n      \"properties\": {\n        \"dtype\": \"string\",\n        \"num_unique_values\": 22430,\n        \"samples\": [\n          \"that is why I drive a (teeny tiny) honda civic\",\n          \"Sorry...but, I bet they aren`t that bad...\",\n          \"yummy\"\n        ],\n        \"semantic_type\": \"\",\n        \"description\": \"\"\n      }\n    },\n    {\n      \"column\": \"sentiment\",\n      \"properties\": {\n        \"dtype\": \"category\",\n        \"num_unique_values\": 3,\n        \"samples\": [\n          \"neutral\",\n          \"negative\",\n          \"positive\"\n        ],\n        \"semantic_type\": \"\",\n        \"description\": \"\"\n      }\n    },\n    {\n      \"column\": \"text_cleaned\",\n      \"properties\": {\n        \"dtype\": \"string\",\n        \"num_unique_values\": 27312,\n        \"samples\": [\n          \" love  magix its cool great rhythm\",\n          \"my knee is killing me\",\n          \" i like the optimism\"\n        ],\n        \"semantic_type\": \"\",\n        \"description\": \"\"\n      }\n    },\n    {\n      \"column\": \"selected_text_cleaned\",\n      \"properties\": {\n        \"dtype\": \"string\",\n        \"num_unique_values\": 20996,\n        \"samples\": [\n          \"man that  hurts\",\n          \"having a wonderful piece of cake for lunch \",\n          \"quite good\"\n        ],\n        \"semantic_type\": \"\",\n        \"description\": \"\"\n      }\n    },\n    {\n      \"column\": \"text_cleaned_no_stopwords\",\n      \"properties\": {\n        \"dtype\": \"string\",\n        \"num_unique_values\": 26887,\n        \"samples\": [\n          \"httptwitpiccomwe summer\",\n          \"weird really want harry potter bed spread pillows wish could find one wasnt gryffindor\",\n          \"cant wait hear new album im sure amazingplease replay love much\"\n        ],\n        \"semantic_type\": \"\",\n        \"description\": \"\"\n      }\n    },\n    {\n      \"column\": \"selected_text_cleaned_no_stopwords\",\n      \"properties\": {\n        \"dtype\": \"string\",\n        \"num_unique_values\": 19473,\n        \"samples\": [\n          \"fuckn awesome atm\",\n          \"sooo saw robs car drive\",\n          \"happy star wars day may th\"\n        ],\n        \"semantic_type\": \"\",\n        \"description\": \"\"\n      }\n    }\n  ]\n}"
            }
          },
          "metadata": {},
          "execution_count": 17
        }
      ]
    },
    {
      "cell_type": "markdown",
      "source": [
        "#Section 2"
      ],
      "metadata": {
        "id": "ykMjtHaPg_C5"
      }
    },
    {
      "cell_type": "markdown",
      "source": [
        "In this section, the goal is to convert the text into a numerical format for machine learning algorithms. The TF-IDF (Term Frequency-Inverse Document Frequency) vectorization technique is employed, which gives weights to words based on their frequency within a document and across the entire dataset.\n",
        "\n",
        "*   Term Frequency (TF) measures how often a word appears in a document relative to the total number of words in the same document\n",
        "\n",
        "*  Inverse Document Frequency (IDF) measures the importance of a word by considering how often it appears across all documents. Words that appear in many documents are given lower weight, since they give less info.\n",
        "\n",
        "By combining these, TF-IDF is an effective method for identifying key features.\n",
        "\n",
        "In this case, TF-IDF is applied to the 'text_cleaned_no_stopwords' and 'selected_text_cleaned_no_stopwords' columns, which have been preprocessed by removing stopwords and non-alphabetic characters. The resulting vectors are now ready for use in machine learning models, providing numerical representations of the text that can be processed by algorithms for sentiment analysis or other classification tasks."
      ],
      "metadata": {
        "id": "pg7BWzNvXspl"
      }
    },
    {
      "cell_type": "code",
      "source": [
        "# Initialize the TF-IDF Vectorizer\n",
        "vectorizer = TfidfVectorizer(stop_words='english')  # 'english' stopwords from sklearn can be used along with custom ones\n",
        "\n",
        "# Vectorize the cleaned text column without stopwords (using 'text_cleaned_no_stopwords')\n",
        "X_tfidf_text = vectorizer.fit_transform(tweet_df['text_cleaned_no_stopwords'])\n",
        "\n",
        "# Vectorize the selected text column without stopwords (using 'selected_text_cleaned_no_stopwords')\n",
        "X_tfidf_selected_text = vectorizer.fit_transform(tweet_df['selected_text_cleaned_no_stopwords'])\n",
        "\n",
        "# Display the shape of the TF-IDF matrices\n",
        "print(f\"TF-IDF matrix for 'text_cleaned_no_stopwords' shape: {X_tfidf_text.shape}\")\n",
        "print(f\"TF-IDF matrix for 'selected_text_cleaned_no_stopwords' shape: {X_tfidf_selected_text.shape}\")"
      ],
      "metadata": {
        "colab": {
          "base_uri": "https://localhost:8080/"
        },
        "id": "nLC1oSCIcp8u",
        "outputId": "83f8b4bf-a8d3-43fd-9da3-7a613137d64d"
      },
      "execution_count": 18,
      "outputs": [
        {
          "output_type": "stream",
          "name": "stdout",
          "text": [
            "TF-IDF matrix for 'text_cleaned_no_stopwords' shape: (27480, 27580)\n",
            "TF-IDF matrix for 'selected_text_cleaned_no_stopwords' shape: (27480, 17896)\n"
          ]
        }
      ]
    },
    {
      "cell_type": "code",
      "source": [
        "print(X_tfidf_text)"
      ],
      "metadata": {
        "colab": {
          "base_uri": "https://localhost:8080/"
        },
        "id": "1EGu_ZgicVzw",
        "outputId": "5d41f79c-15f3-4e36-f5aa-ded4bc3a2353"
      },
      "execution_count": 19,
      "outputs": [
        {
          "output_type": "stream",
          "name": "stdout",
          "text": [
            "  (0, 12149)\t0.47606233839599693\n",
            "  (0, 20109)\t0.8154850428690742\n",
            "  (0, 9257)\t0.3291637811451308\n",
            "  (1, 22224)\t0.4245396417280271\n",
            "  (1, 20650)\t0.3303634634281993\n",
            "  (1, 15737)\t0.3137602011805186\n",
            "  (1, 20744)\t0.5381144015086806\n",
            "  (1, 6082)\t0.567990758443549\n",
            "  (2, 2749)\t0.6112053120793377\n",
            "  (2, 3185)\t0.7914720882545381\n",
            "  (3, 12579)\t0.7834445624729018\n",
            "  (3, 14023)\t0.6214616782486618\n",
            "  (4, 22208)\t0.5925371516906595\n",
            "  (4, 19925)\t0.6646744248094097\n",
            "  (4, 2773)\t0.4550907962930042\n",
            "  (5, 11867)\t0.43183403022913697\n",
            "  (5, 21269)\t0.43183403022913697\n",
            "  (5, 18606)\t0.40340302591654476\n",
            "  (5, 2188)\t0.2257681718370667\n",
            "  (5, 19554)\t0.40340302591654476\n",
            "  (5, 8425)\t0.3749720216039526\n",
            "  (5, 6841)\t0.3316556250607942\n",
            "  (6, 7877)\t0.5541715890651976\n",
            "  (6, 1596)\t0.32450957792869\n",
            "  (6, 8694)\t0.2627009088303995\n",
            "  :\t:\n",
            "  (27476, 4336)\t0.2834287576988328\n",
            "  (27476, 4317)\t0.2619387163939398\n",
            "  (27476, 8367)\t0.27355555323754344\n",
            "  (27476, 6025)\t0.31383797200630764\n",
            "  (27476, 26761)\t0.3264088403086188\n",
            "  (27476, 19533)\t0.3264088403086188\n",
            "  (27476, 3727)\t0.3264088403086188\n",
            "  (27477, 9282)\t0.17517381641933952\n",
            "  (27477, 27180)\t0.26305544382365287\n",
            "  (27477, 19061)\t0.2861815146764553\n",
            "  (27477, 7215)\t0.28075558053864935\n",
            "  (27477, 12008)\t0.3367654796538073\n",
            "  (27477, 16519)\t0.218457398101422\n",
            "  (27477, 2888)\t0.30202523093558503\n",
            "  (27477, 26263)\t0.23552781883687696\n",
            "  (27477, 3561)\t0.31717149812220424\n",
            "  (27477, 10200)\t0.4146920606529259\n",
            "  (27477, 27117)\t0.39874544654530514\n",
            "  (27478, 26909)\t1.0\n",
            "  (27479, 9257)\t0.21571353285458178\n",
            "  (27479, 21984)\t0.4434666104941948\n",
            "  (27479, 27180)\t0.29866383422494286\n",
            "  (27479, 11978)\t0.36437343913101256\n",
            "  (27479, 8200)\t0.4992334045407334\n",
            "  (27479, 1314)\t0.5344183341659863\n"
          ]
        }
      ]
    },
    {
      "cell_type": "markdown",
      "source": [
        "#Section 3"
      ],
      "metadata": {
        "id": "TzFkSFWwgDtb"
      }
    },
    {
      "cell_type": "markdown",
      "source": [],
      "metadata": {
        "id": "kubkUL_fTzn2"
      }
    },
    {
      "cell_type": "code",
      "source": [
        "from sklearn.svm import SVC\n",
        "from sklearn.model_selection import train_test_split, GridSearchCV\n",
        "from sklearn.metrics import classification_report\n",
        "\n",
        "# Use the TF-IDF matrix (X_tfidf_text) and the sentiment labels (y)\n",
        "X = X_tfidf_text  # TF-IDF features for 'text_cleaned_no_stopwords'\n",
        "y = tweet_df['sentiment']  # Sentiment labels\n",
        "\n",
        "# Split the data into training and testing sets\n",
        "X_train, X_test, y_train, y_test = train_test_split(X, y, test_size=0.2, random_state=42)\n",
        "\n",
        "# Define parameter grid for SVM\n",
        "param_grid = {'C': [0.1, 1, 10], 'kernel': ['linear', 'rbf']}\n",
        "\n",
        "# Grid Search for hyperparameter tuning\n",
        "grid_search = GridSearchCV(SVC(), param_grid, cv=5)\n",
        "grid_search.fit(X_train, y_train)\n",
        "print(f\"Best parameters for SVM: {grid_search.best_params_}\")\n",
        "\n",
        "# Train the model with the best parameters\n",
        "svm_model = grid_search.best_estimator_\n",
        "\n",
        "# Make predictions\n",
        "y_pred = svm_model.predict(X_test)\n",
        "\n",
        "# Print classification report\n",
        "print(classification_report(y_test, y_pred))"
      ],
      "metadata": {
        "id": "uq2KjH1zX0WM",
        "colab": {
          "base_uri": "https://localhost:8080/"
        },
        "outputId": "e7276ee1-9b83-4fda-c439-334e58ee6c80"
      },
      "execution_count": 112,
      "outputs": [
        {
          "output_type": "stream",
          "name": "stdout",
          "text": [
            "Best parameters for SVM: {'C': 1, 'kernel': 'linear'}\n",
            "              precision    recall  f1-score   support\n",
            "\n",
            "    negative       0.73      0.56      0.63      1572\n",
            "     neutral       0.63      0.78      0.69      2236\n",
            "    positive       0.79      0.71      0.75      1688\n",
            "\n",
            "    accuracy                           0.69      5496\n",
            "   macro avg       0.72      0.68      0.69      5496\n",
            "weighted avg       0.71      0.69      0.69      5496\n",
            "\n"
          ]
        }
      ]
    },
    {
      "cell_type": "code",
      "source": [
        "from tensorflow.keras.models import Sequential\n",
        "from tensorflow.keras.layers import Embedding, LSTM, Dense, Dropout\n",
        "from tensorflow.keras.preprocessing.sequence import pad_sequences\n",
        "from tensorflow.keras.callbacks import EarlyStopping\n",
        "\n",
        "# Padding sequences to ensure all sequences have the same length\n",
        "X_pad = pad_sequences(X.toarray(), maxlen=200)\n",
        "\n",
        "# Convert sentiment labels to numerical format\n",
        "y_numerical = pd.get_dummies(y).values\n",
        "\n",
        "# Split the data into training and testing sets\n",
        "X_train_rnn, X_test_rnn, y_train_rnn, y_test_rnn = train_test_split(X_pad, y_numerical, test_size=0.2, random_state=42)\n",
        "\n",
        "# Initialize the RNN model\n",
        "model_rnn = Sequential()\n",
        "model_rnn.add(Embedding(input_dim=X_pad.shape[1], output_dim=100, input_length=200))\n",
        "model_rnn.add(LSTM(128, return_sequences=True))\n",
        "model_rnn.add(Dropout(0.2))  # Dropout layer to prevent overfitting\n",
        "model_rnn.add(LSTM(64))\n",
        "model_rnn.add(Dense(3, activation='softmax'))  # 3 classes: positive, negative, neutral\n",
        "model_rnn.compile(loss='categorical_crossentropy', optimizer='adam', metrics=['accuracy'])\n",
        "\n",
        "# Early stopping to prevent overfitting\n",
        "early_stopping = EarlyStopping(monitor='val_loss', patience=3)\n",
        "\n",
        "# Train the model\n",
        "model_rnn.fit(X_train_rnn, y_train_rnn, epochs=10, batch_size=64, validation_data=(X_test_rnn, y_test_rnn), callbacks=[early_stopping])\n",
        "\n",
        "# Evaluate the model\n",
        "loss, accuracy = model_rnn.evaluate(X_test_rnn, y_test_rnn)\n",
        "print(f\"RNN Test Accuracy: {accuracy}\")"
      ],
      "metadata": {
        "id": "z_jCWl5Ue83U",
        "colab": {
          "base_uri": "https://localhost:8080/"
        },
        "outputId": "86234545-aff0-4780-93d5-8ca51327aa3b"
      },
      "execution_count": 111,
      "outputs": [
        {
          "output_type": "stream",
          "name": "stdout",
          "text": [
            "Epoch 1/10\n"
          ]
        },
        {
          "output_type": "stream",
          "name": "stderr",
          "text": [
            "/usr/local/lib/python3.10/dist-packages/keras/src/layers/core/embedding.py:90: UserWarning: Argument `input_length` is deprecated. Just remove it.\n",
            "  warnings.warn(\n"
          ]
        },
        {
          "output_type": "stream",
          "name": "stdout",
          "text": [
            "\u001b[1m344/344\u001b[0m \u001b[32m━━━━━━━━━━━━━━━━━━━━\u001b[0m\u001b[37m\u001b[0m \u001b[1m266s\u001b[0m 764ms/step - accuracy: 0.4034 - loss: 1.0897 - val_accuracy: 0.4068 - val_loss: 1.0870\n",
            "Epoch 2/10\n",
            "\u001b[1m344/344\u001b[0m \u001b[32m━━━━━━━━━━━━━━━━━━━━\u001b[0m\u001b[37m\u001b[0m \u001b[1m262s\u001b[0m 762ms/step - accuracy: 0.3982 - loss: 1.0888 - val_accuracy: 0.4068 - val_loss: 1.0865\n",
            "Epoch 3/10\n",
            "\u001b[1m344/344\u001b[0m \u001b[32m━━━━━━━━━━━━━━━━━━━━\u001b[0m\u001b[37m\u001b[0m \u001b[1m264s\u001b[0m 769ms/step - accuracy: 0.4020 - loss: 1.0880 - val_accuracy: 0.4068 - val_loss: 1.0871\n",
            "Epoch 4/10\n",
            "\u001b[1m344/344\u001b[0m \u001b[32m━━━━━━━━━━━━━━━━━━━━\u001b[0m\u001b[37m\u001b[0m \u001b[1m264s\u001b[0m 767ms/step - accuracy: 0.3984 - loss: 1.0874 - val_accuracy: 0.4068 - val_loss: 1.0880\n",
            "Epoch 5/10\n",
            "\u001b[1m344/344\u001b[0m \u001b[32m━━━━━━━━━━━━━━━━━━━━\u001b[0m\u001b[37m\u001b[0m \u001b[1m320s\u001b[0m 761ms/step - accuracy: 0.3956 - loss: 1.0901 - val_accuracy: 0.4068 - val_loss: 1.0866\n",
            "\u001b[1m172/172\u001b[0m \u001b[32m━━━━━━━━━━━━━━━━━━━━\u001b[0m\u001b[37m\u001b[0m \u001b[1m25s\u001b[0m 145ms/step - accuracy: 0.4056 - loss: 1.0861\n",
            "RNN Test Accuracy: 0.40684133768081665\n"
          ]
        }
      ]
    },
    {
      "cell_type": "code",
      "source": [
        "from tensorflow.keras.models import Sequential\n",
        "from tensorflow.keras.layers import Dense, Dropout\n",
        "from sklearn.preprocessing import LabelEncoder\n",
        "import numpy as np\n",
        "from tensorflow.keras.callbacks import EarlyStopping\n",
        "\n",
        "# Initialize the MLP model\n",
        "model_mlp = Sequential()\n",
        "model_mlp.add(Dense(128, input_dim=X_train.shape[1], activation='relu', kernel_regularizer='l2'))  # L2 regularization\n",
        "model_mlp.add(Dropout(0.2))  # Dropout to prevent overfitting\n",
        "model_mlp.add(Dense(64, activation='relu', kernel_regularizer='l2'))  # L2 regularization\n",
        "model_mlp.add(Dense(3, activation='softmax'))  # 3 classes: positive, negative, neutral\n",
        "model_mlp.compile(loss='categorical_crossentropy', optimizer='adam', metrics=['accuracy'])\n",
        "\n",
        "# Convert y_train to numerical format using LabelEncoder\n",
        "encoder = LabelEncoder()\n",
        "y_train_encoded = encoder.fit_transform(y_train)\n",
        "\n",
        "# Convert encoded labels to one-hot encoding\n",
        "y_train_onehot = np.eye(3)[y_train_encoded]\n",
        "\n",
        "# Split the data into training and testing sets\n",
        "X_train_mlp, X_test_mlp, y_train_mlp, y_test_mlp = train_test_split(X, y_numerical, test_size=0.2, random_state=42)\n",
        "\n",
        "# Early stopping to prevent overfitting\n",
        "early_stopping_mlp = EarlyStopping(monitor='val_loss', patience=3)\n",
        "\n",
        "# Train the model using one-hot encoded labels\n",
        "model_mlp.fit(X_train_mlp, y_train_onehot, epochs=10, batch_size=64, validation_data=(X_test_mlp, y_test_mlp), callbacks=[early_stopping_mlp])\n",
        "\n",
        "# For evaluation, you'll need to encode y_test as well\n",
        "y_test_encoded = encoder.transform(y_test)\n",
        "y_test_onehot = np.eye(3)[y_test_encoded]\n",
        "\n",
        "# Evaluate the model\n",
        "loss, accuracy = model_mlp.evaluate(X_test_mlp, y_test_onehot)\n",
        "print(f\"MLP Test Accuracy: {accuracy}\")"
      ],
      "metadata": {
        "id": "EJwphrMJe_R0",
        "colab": {
          "base_uri": "https://localhost:8080/"
        },
        "outputId": "5ae87ad9-c3c6-423a-ac9f-6c306e862ef0"
      },
      "execution_count": 110,
      "outputs": [
        {
          "output_type": "stream",
          "name": "stderr",
          "text": [
            "/usr/local/lib/python3.10/dist-packages/keras/src/layers/core/dense.py:87: UserWarning: Do not pass an `input_shape`/`input_dim` argument to a layer. When using Sequential models, prefer using an `Input(shape)` object as the first layer in the model instead.\n",
            "  super().__init__(activity_regularizer=activity_regularizer, **kwargs)\n"
          ]
        },
        {
          "output_type": "stream",
          "name": "stdout",
          "text": [
            "Epoch 1/10\n",
            "\u001b[1m344/344\u001b[0m \u001b[32m━━━━━━━━━━━━━━━━━━━━\u001b[0m\u001b[37m\u001b[0m \u001b[1m32s\u001b[0m 87ms/step - accuracy: 0.4463 - loss: 1.5961 - val_accuracy: 0.6339 - val_loss: 1.0996\n",
            "Epoch 2/10\n",
            "\u001b[1m344/344\u001b[0m \u001b[32m━━━━━━━━━━━━━━━━━━━━\u001b[0m\u001b[37m\u001b[0m \u001b[1m28s\u001b[0m 82ms/step - accuracy: 0.6275 - loss: 1.1019 - val_accuracy: 0.6321 - val_loss: 1.1075\n",
            "Epoch 3/10\n",
            "\u001b[1m344/344\u001b[0m \u001b[32m━━━━━━━━━━━━━━━━━━━━\u001b[0m\u001b[37m\u001b[0m \u001b[1m40s\u001b[0m 80ms/step - accuracy: 0.6399 - loss: 1.0885 - val_accuracy: 0.6468 - val_loss: 1.1027\n",
            "Epoch 4/10\n",
            "\u001b[1m344/344\u001b[0m \u001b[32m━━━━━━━━━━━━━━━━━━━━\u001b[0m\u001b[37m\u001b[0m \u001b[1m28s\u001b[0m 80ms/step - accuracy: 0.6567 - loss: 1.0788 - val_accuracy: 0.6390 - val_loss: 1.0998\n",
            "\u001b[1m172/172\u001b[0m \u001b[32m━━━━━━━━━━━━━━━━━━━━\u001b[0m\u001b[37m\u001b[0m \u001b[1m2s\u001b[0m 12ms/step - accuracy: 0.6384 - loss: 1.1000\n",
            "MLP Test Accuracy: 0.6390101909637451\n"
          ]
        }
      ]
    }
  ]
}